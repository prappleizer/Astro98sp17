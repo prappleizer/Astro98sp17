{
 "cells": [
  {
   "cell_type": "markdown",
   "metadata": {},
   "source": [
    "# Tutorial 6: Recursive Functions and Classes"
   ]
  },
  {
   "cell_type": "markdown",
   "metadata": {},
   "source": [
    "RECURSION TIME! We are going to make a function that calculates a factorial using recursion. What is recursion?\n",
    "Recursion allows you to call a the function you are writing in the middle of the function you are writing. Sound weird? It is. It is useful for things like factorials, which are in fact \\textit{defined} recursively. For example, the definition of n! is \n",
    "\\begin{equation}\n",
    "0! = 1 \n",
    "\\end{equation}\n",
    "\\begin{equation}\n",
    "n! = n(n-1)!\n",
    "\\end{equation}\n",
    "Notice how n! is quite literally defined in terms of the factorial of the n below it. To calculate a factorial, say, 3!, you do 3(2!)... so now we need to do 2!, which is 2*1!... so now we need to do 1!, which is 1*0!... ah, finally we have one that is actually defined. so 1! is 1, 2! is 2, and 3! is 6, working back up. \n",
    "\n",
    "Amazingly, we can actually have our function we write call itself in the middle of its own execution, which will allow us to recursively calculate the answer. You will be making a function that returns the nth digit of the famous Fibonacci sequence. But before sending you off on that, let's work through an example of recursion on the factorial. "
   ]
  },
  {
   "cell_type": "code",
   "execution_count": null,
   "metadata": {
    "collapsed": false
   },
   "outputs": [],
   "source": [
    "############ RUN THIS CELL #############################\n",
    "import numpy as np\n",
    "import matplotlib.pyplot as plt\n",
    "%matplotlib inline\n",
    "!pip install -U okpy\n",
    "from client.api.notebook import Notebook\n",
    "ok = Notebook('hw6.ok')"
   ]
  },
  {
   "cell_type": "code",
   "execution_count": null,
   "metadata": {
    "collapsed": false
   },
   "outputs": [],
   "source": [
    "def factorial(n):\n",
    "    if n==0:\n",
    "        return 1\n",
    "    else:\n",
    "        return n*factorial(n-1)"
   ]
  },
  {
   "cell_type": "code",
   "execution_count": null,
   "metadata": {
    "collapsed": false
   },
   "outputs": [],
   "source": [
    "factorial(5)"
   ]
  },
  {
   "cell_type": "markdown",
   "metadata": {},
   "source": [
    "Above we have a fully functional, recursive factorial function. Note that the word recursive used as a variable name is not \"special\", we could've use any variable names for anything in the function. Notice how if you plug in an n greater than 0, it calls itself on one below your n, and if THAT is greater than 0, it does it again, and again, until finally, n-1 is 0. Then when it plugs in n=0, it finally returns one. But all of this is in the control flow of the function, so each time it re calls itself, it multiplies n by the output of the function itself called on n-1, in result. This is really mind-boggling, but think about it slowly for a while. Check it yourself to see that it works. Once you're ready, you can try it yourself!"
   ]
  },
  {
   "cell_type": "markdown",
   "metadata": {},
   "source": [
    "## Question 1: The Fibonacci Sequence"
   ]
  },
  {
   "cell_type": "markdown",
   "metadata": {},
   "source": [
    "The Fibonacci sequence is familiar to most of you, it goes 1,1,2,3,5,8,13,.... \n",
    "\n",
    "It is defined by the following rules: \n",
    "\\begin{equation}\n",
    "fibonacci(0) = 0\n",
    "\\end{equation}\n",
    "\\begin{equation}\n",
    "fibonacci(1) = 1\n",
    "\\end{equation}\n",
    "\\begin{equation}\n",
    "fibonacci(n) = fibonacci(n-1) + fibonacci(n-2)\n",
    "\\end{equation}\n",
    "\n",
    "That is, each n in fibonacci is the sum of the previous two, excluding 0 and 1. \n",
    "\n",
    "Write a recursive function like the one above to determine the fibonacci number of any n. Before you run your new function, it might be helpful to implement some safeguards. Safeguards protect our code from things like infinte recursion (somewhat like an infinite while loop). \n",
    "\n",
    "For this function, as the n entered is a positive integer, things will be fine. Your first step is to check if it's greater than 0- this isn't new, just have an if statement for it first thing, and if it isn't, print an error string and return none. You also want to check the datatype entered- which i'll tell you you can do like this: "
   ]
  },
  {
   "cell_type": "code",
   "execution_count": null,
   "metadata": {
    "collapsed": false
   },
   "outputs": [],
   "source": [
    "def is_int(n):\n",
    "    if not isinstance(n,int):\n",
    "        return None\n",
    "    else:\n",
    "        return True\n",
    "print(is_int(5))\n",
    "print(is_int('string'))"
   ]
  },
  {
   "cell_type": "markdown",
   "metadata": {},
   "source": [
    "### In the code block below, write your fibonacci function"
   ]
  },
  {
   "cell_type": "code",
   "execution_count": null,
   "metadata": {
    "collapsed": false
   },
   "outputs": [],
   "source": [
    "def fibonacci(n):\n",
    "    ...\n"
   ]
  },
  {
   "cell_type": "code",
   "execution_count": null,
   "metadata": {
    "collapsed": false
   },
   "outputs": [],
   "source": [
    "_ = ok.grade('q01')\n",
    "_ = ok.backup()"
   ]
  },
  {
   "cell_type": "markdown",
   "metadata": {},
   "source": [
    "# Question 2: Defining a Class"
   ]
  },
  {
   "cell_type": "markdown",
   "metadata": {},
   "source": [
    "Next week, you are (probably, if we don't change our minds), going to be writing a simulation of bodies in our solar system, which involves creating classes, and instances of those classes. Let's get a little bit of practice with some simple class stuff before we tackle that problem. \n",
    "\n",
    "\n",
    "- Create a class called **Star** (this will be similar to the planet class we created in lecture so you can use that as a guide). When astronomers observe stars, generally the only information we have available is the flux we recieve from the star, and (sometimes) the distance (measured from parallax). Let's start with those two and see what we can derive from it.\n",
    "\n",
    "\n",
    "- You'll want to have the user specify flux (in erg/sec/cm$^2$), and distance to the star (in parsecs). These units are the most brain-friendly to think about for astronomers, but for our calculations, we will need to do everything in some proper units. That is, CGS. Stop groaning. Our flux units are already in CGS, and one parsec is $3.086\\times 10^{18}$ cm. Set some in-class only variables with the CGS converted values of the star's parameters, for calculations, but use the \"self.\" notation to keep the friendly numbers for when the user asks for a value.\n",
    "\n",
    "- Given a flux and a distance, we can calculate the star's luminosity using \n",
    "\n",
    "    \\begin{equation}\n",
    "    F = \\frac{L}{4\\pi d^2}.\n",
    "    \\end{equation}\n",
    "\n",
    "- Set an attribute called luminosity that calculates the luminosity using the above formula, and then converts the answer into units of solar luminosity ($L_{\\odot} = 3.848\\times 10^{33}$ erg/s). That is, once initializing a Star object, the user can type starname.luminosity and get the answer out. \n",
    "\n",
    "-  If we know a star's luminosity, **and it is on the main sequence**, we can actually derive rough estimates for the radius and mass. Roughly speaking, there is a mass-luminosity relation that goes as \n",
    "\n",
    "    \\begin{equation}\n",
    "    \\left(\\frac{L}{L_{\\odot}}\\right) = \\left(\\frac{M}{M_{\\odot}}\\right)^{4},\n",
    "    \\end{equation}\n",
    "\n",
    "    at least for stars with solar masses between 0.43 and 2 $M_{\\odot}$ (for simplicity, let's limit our class to cover this range). In CGS, $M_{\\odot} = 1.98\\times 10^{33}$ grams, so using the above you should be able to derive an attribute called mass, which outputs to the user the star's mass (in solar masses). \n",
    "\n",
    "- There is also a mass-radius relationship for main sequence stars, that looks something like this: \n",
    "\n",
    "    \\begin{equation}\n",
    "    \\left(\\frac{R}{R_{\\odot}}\\right) = 1.06\\left(\\frac{M}{M_{\\odot}}\\right)^{0.555}.\n",
    "    \\end{equation}\n",
    "\n",
    "    This is a simplification, but for the range of stars we are considering between .43 and 2 $M_{\\odot}$, it will do. For reference, $R_{\\odot}=6.957\\times 10^{10}$cm. Use this relation to derive an attribute called radius, which outputs nicely in solar radii the radius of the star when the user types starname.radius. \n",
    "\n",
    "- We also want to have access to an attribute called temperature (in this case, the surface/effective temperature). Big surprise, we can calculate it ourselves using the information we've already derived:\n",
    "\n",
    "    \\begin{equation}\n",
    "    L = 4\\pi R^2 \\sigma T^4\n",
    "    \\end{equation}\n",
    "    where $\\sigma$ is the Stephan-Boltzmann constant. Using this equation, derive a temperature attribute that outputs the effective temperature of the star in Kelvin. **Be Careful**, the $\\sigma$ is the Stephan-Boltzmann constant, and is going to demand R and L be in cgs units, when using the following value: $5.6704\\times10^{−5}$. \n",
    "\n",
    "\n",
    "- Create attributes peak\\_wl and color, which use the temperature and a few if statements to output the approximate color of the star, given that the peak wavelength is given by Wien's Law: \n",
    "\n",
    "    \\begin{equation}\n",
    "    \\lambda_{peak} = B / T\n",
    "    \\end{equation}\n",
    "    \n",
    "    where B is a constant equal to 29,000,000. This will produce a wavelength in Angstrom. Use the internet to figure out some approximate wavelength bands for each color in microns for the visible spectrum, i.e., red is between blah and blah, etc. Using this, when the user types starname.color, the output will be a color like \"green\". (If the peak wavelength is outside the visible range, just call it UV if it's to the short end and IR if it's to the long end. I used this: https://www2.chemistry.msu.edu/faculty/reusch/virttxtjml/spectrpy/uv-vis/spectrum.htm.\n",
    "\n",
    "\n",
    "- We are also interested in an attribute t_ms that will tell us how long the star will live on the main sequence $t_{MS}$, which can be calculated approximately using \n",
    "\n",
    "    \\begin{equation}\n",
    "    \\frac{t_{MS}}{t_{MS,\\odot}} = \\left(\\frac{M}{M_{\\odot}}\\right)^{-2.5} \n",
    "    \\end{equation}\n",
    "\n",
    "    where the lifetime of the sun on the main sequence is $\\sim 10Gyr$. Don't normalize this one to solar, since solar $t_{MS}$ isn't a super useful quantity, just find it in Gyr. So at this point, after initializing a star, you should be able to access star.mass, star.radius, star.temperature, star.luminosity, star.color, star.peak\\_wl, star.flux, star.distance, and star.t_ms (time main sequence) where \"star\" is whatever you name your star when you initialize it. \n",
    "\n",
    "- Lets make some methods for our star now. Create a method called mass\\_loss which takes as an input some fraction (as a decimal), and uses it to update the mass to be $M_{previous} - M_{previous} * fraction$. This allows the user the force the star to lose some of its mass. If you recheck the other quantities that depend on mass, they should also be updated (both the cgs and friendly versions!!) This isn't super realistic, since actual mass loss is caused by mechanisms within the star that are contributing to it doing all sorts of funky things with it's temperature and radius... but then the star isn't really main sequence anymore, is it?\n",
    "\n",
    "-  Create a method called force which takes as an input another instance of the star class and a distance $r$ in cm. Use it to return the gravitational force between the two stars. Since gravity is symmetric, I should be able to run star1.force(star2) or star2.force(star1) and get the same answer. \n",
    "\n",
    "\n"
   ]
  },
  {
   "cell_type": "code",
   "execution_count": null,
   "metadata": {
    "collapsed": true
   },
   "outputs": [],
   "source": [
    "class Star: \n",
    "    ..."
   ]
  },
  {
   "cell_type": "code",
   "execution_count": null,
   "metadata": {
    "collapsed": false
   },
   "outputs": [],
   "source": [
    "#Let's plug in the flux and distance of a nearby star, and see what values our class predicts.\n",
    "sirius = Star(0.000117211,2.64)\n",
    "print('Star: Sirius')\n",
    "print('Flux: ',sirius.flux,'erg/sec/cm^2')\n",
    "print('Distance: ',sirius.distance,'pc')\n",
    "print('Luminosity: ',sirius.luminosity,'Lsun')\n",
    "print('Mass: ',sirius.mass,'Msun')\n",
    "print('Radius: ',sirius.radius,'Rsun')\n",
    "print('Temp: ',sirius.temperature,'Kelvin')\n",
    "print('Peak wl: ',sirius.peak_wl,'Angstrom')\n",
    "print('Color: ',sirius.color)\n",
    "print('MS lifetime: ',sirius.t_ms,'Gyr')"
   ]
  },
  {
   "cell_type": "code",
   "execution_count": null,
   "metadata": {
    "collapsed": false
   },
   "outputs": [],
   "source": [
    "_ = ok.grade('q02') #checks your attributes\n",
    "_ = ok.backup()"
   ]
  },
  {
   "cell_type": "code",
   "execution_count": null,
   "metadata": {
    "collapsed": true
   },
   "outputs": [],
   "source": [
    "_ = ok.grade('q03') #checks your methods\n",
    "_ = ok.backup()"
   ]
  },
  {
   "cell_type": "markdown",
   "metadata": {
    "collapsed": true
   },
   "source": [
    "If you go to wikipedia and look up the stats on Sirius, you'll find that our simple models here actually do a pretty dang good (but not perfect) job of deriving quantities about Sirius just based on knowing its distance and flux at Earth. Yay! Science works!"
   ]
  },
  {
   "cell_type": "markdown",
   "metadata": {},
   "source": [
    "<img src='sirius.png'>"
   ]
  },
  {
   "cell_type": "code",
   "execution_count": null,
   "metadata": {
    "collapsed": false
   },
   "outputs": [],
   "source": [
    "_ = ok.grade_all()\n",
    "_ = ok.submit()"
   ]
  }
 ],
 "metadata": {
  "anaconda-cloud": {},
  "kernelspec": {
   "display_name": "Python [conda env:pydecal]",
   "language": "python",
   "name": "conda-env-pydecal-py"
  },
  "language_info": {
   "codemirror_mode": {
    "name": "ipython",
    "version": 3
   },
   "file_extension": ".py",
   "mimetype": "text/x-python",
   "name": "python",
   "nbconvert_exporter": "python",
   "pygments_lexer": "ipython3",
   "version": "3.5.2"
  }
 },
 "nbformat": 4,
 "nbformat_minor": 2
}
