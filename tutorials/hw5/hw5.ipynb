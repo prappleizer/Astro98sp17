{
 "cells": [
  {
   "cell_type": "markdown",
   "metadata": {},
   "source": [
    "# SDSS: Data I/O and Binned Plotting"
   ]
  },
  {
   "cell_type": "markdown",
   "metadata": {},
   "source": [
    "In this tutorial we will be loading up some SDSS data (mass, metallicity, and star formation rate) for a bunch of galaxies. We will then plot the Mass metallicity relation, and explore it in a bit more depth. \n",
    "\n",
    "You can work on this tutorial in anyway you like- You can use this html to copy and paste into your own ipython notebook (or just a python script in a plaintext editor) and then make changes, you can follow along working from scratch, or you can download the .ipynb version of this document from the Tutorials page and work directly in it. \n",
    "\n",
    "Let's go ahead and get started with our import statements:"
   ]
  },
  {
   "cell_type": "code",
   "execution_count": 1,
   "metadata": {
    "collapsed": false
   },
   "outputs": [],
   "source": [
    "import numpy as np\n",
    "import matplotlib.pyplot as plt\n",
    "import pyfits as pf\n",
    "from matplotlib.colors import LogNorm\n",
    "%matplotlib inline\n",
    "!pip install -U okpy\n",
    "from client.api.notebook import Notebook\n",
    "ok = Notebook('hw5.ok')"
   ]
  },
  {
   "cell_type": "markdown",
   "metadata": {},
   "source": [
    "Great. Now we will want to load the data from the fits files we downloaded. let's define a function that will do this for any fits data table file, and then feed it the three file-names we have. "
   ]
  },
  {
   "cell_type": "code",
   "execution_count": 3,
   "metadata": {
    "collapsed": false
   },
   "outputs": [],
   "source": [
    "def load_fits(fname):\n",
    "    ...  #load the fits file into python\n",
    "    ...  #accesses the data table attribute of the fits file\n",
    "    return data\n",
    "\n",
    "sfr_full = load_fits('gal_totsfr_dr7_v5_2.fits') # file containing star formation rates\n",
    "mass_full = load_fits('totlgm_dr7_v5_2b.fit') # file containing galaxy masses\n",
    "z_full = load_fits('gal_fiboh_dr7_v5_2.fits') # mass containing metalicities"
   ]
  },
  {
   "cell_type": "markdown",
   "metadata": {},
   "source": [
    "We now have three sets of data. Each of our datasets above has multiple columns being stored in what is known as a \"record array\" (or rec.array). This is a form of array that allows indexing by attribue, much like a dictionary. We can print out what the column names are by using dot notation on our data sets. "
   ]
  },
  {
   "cell_type": "code",
   "execution_count": 11,
   "metadata": {
    "collapsed": false
   },
   "outputs": [
    {
     "data": {
      "text/plain": [
       "ColDefs(\n",
       "    name = 'AVG'; format = 'E'\n",
       "    name = 'ENTROPY'; format = 'D'\n",
       "    name = 'FLAG'; format = 'E'\n",
       "    name = 'MEDIAN'; format = 'E'\n",
       "    name = 'MODE'; format = 'E'\n",
       "    name = 'P16'; format = 'E'\n",
       "    name = 'P2P5'; format = 'E'\n",
       "    name = 'P84'; format = 'E'\n",
       "    name = 'P97P5'; format = 'E'\n",
       ")"
      ]
     },
     "execution_count": 11,
     "metadata": {},
     "output_type": "execute_result"
    }
   ],
   "source": [
    "sfr_full.columns"
   ]
  },
  {
   "cell_type": "markdown",
   "metadata": {},
   "source": [
    "As we can see, we have columns like \"Avg\", \"Entropy\", \"Median\", \"Flag\", etc. For the purposes of this tutorial, we are interested in the \"Avg column.\" Like most datasets of real data, not all of the galaxies or entries in these files are usable- generally the pipeline that creates the datasets will \"flag\" bad data in an easily programmatically removable way. Sometimes it is using a \"flag\" column, and other times is is by selecting an arbitrary and non-physical number to enter as the value (this is how the SDSS data is handled). The values of the flags can usually be found in a readme file. \n",
    "\n",
    "So, we need to restrict our data to just those that don't have any warning flags. In the cell below, (or in your code), find the indices (locations) for which the following conditions are satisfied, and save them to a variable called \"restrictions\":\n",
    "\n",
    "1. In the SFR array, the value is > -99\n",
    "2. In the Mass array, the value is not equal to -1\n",
    "3. In the metallicity array, the value is > -99.9 \n",
    "\n",
    "Hint: Do not use a for loop to iterate over the arrays and check the conditions- there is a much faster and more efficient method. "
   ]
  },
  {
   "cell_type": "code",
   "execution_count": 12,
   "metadata": {
    "collapsed": true
   },
   "outputs": [],
   "source": [
    "restrictions = ..."
   ]
  },
  {
   "cell_type": "code",
   "execution_count": null,
   "metadata": {
    "collapsed": true
   },
   "outputs": [],
   "source": [
    "_ = ok.grade('q01')\n",
    "_ = ok.backup()"
   ]
  },
  {
   "cell_type": "markdown",
   "metadata": {},
   "source": [
    "Great, so now we know which indices correspond to the data that's actually useable. Out of curiosity, calculate the number of elements this process actually removed below:"
   ]
  },
  {
   "cell_type": "code",
   "execution_count": null,
   "metadata": {
    "collapsed": false
   },
   "outputs": [],
   "source": [
    "num_removed_elements = ...\n",
    "print(num_removed_elements)"
   ]
  },
  {
   "cell_type": "code",
   "execution_count": null,
   "metadata": {
    "collapsed": true
   },
   "outputs": [],
   "source": [
    "_ = ok.grade('q02')\n",
    "_ = ok.backup()"
   ]
  },
  {
   "cell_type": "markdown",
   "metadata": {},
   "source": [
    "Next, we need to actually grab that data (remember, we currently only have the indices). Fill in the rest below"
   ]
  },
  {
   "cell_type": "code",
   "execution_count": 15,
   "metadata": {
    "collapsed": true
   },
   "outputs": [],
   "source": [
    "sfr = np.array(...)\n",
    "mass =np.array(...)\n",
    "z = np.array(...)"
   ]
  },
  {
   "cell_type": "markdown",
   "metadata": {},
   "source": [
    "Note: These arrays (because we are using our full arrays from above), are record arrays containing multiple values for each galaxy. We can print out sfr below to see what that means (you can re-run the cell below to ensure you got the same thing I did): "
   ]
  },
  {
   "cell_type": "code",
   "execution_count": 19,
   "metadata": {
    "collapsed": false
   },
   "outputs": [
    {
     "data": {
      "text/plain": [
       "array([ (0.08139009773731232, -4.42832320307308, 0.0, 0.04046526923775673, 0.05000019073486328, -0.19248105585575104, -0.4438594877719879, 0.30087733268737793, 0.6232559680938721),\n",
       "       (-0.14585991203784943, -4.361890854835793, 0.0, -0.18654750287532806, -0.25, -0.40367355942726135, -0.6441667675971985, 0.05915503576397896, 0.3976192772388458),\n",
       "       (-0.39462989568710327, -4.454854048351025, 0.0, -0.4310218095779419, -0.5, -0.663306474685669, -0.9434208869934082, -0.1682741343975067, 0.16142888367176056),\n",
       "       ...,\n",
       "       (0.22899013757705688, -2.662650692885225, 2.0, 0.19214117527008057, 0.20000028610229492, 0.11597011238336563, 0.027193086221814156, 0.2938598096370697, 0.34685245156288147),\n",
       "       (-2.0122199058532715, -4.884956881635399, 2.0, -2.058490514755249, -2.0, -2.44917368888855, -2.7102410793304443, -1.600000023841858, -1.2664284706115723),\n",
       "       (-0.8014197945594788, -2.2798539805751283, 2.0, -0.8301931619644165, -0.7999997138977051, -0.889761745929718, -1.001724123954773, -0.7295780777931213, -0.6834284663200378)], \n",
       "      dtype=(numpy.record, [('AVG', '>f4'), ('ENTROPY', '>f8'), ('FLAG', '>f4'), ('MEDIAN', '>f4'), ('MODE', '>f4'), ('P16', '>f4'), ('P2P5', '>f4'), ('P84', '>f4'), ('P97P5', '>f4')]))"
      ]
     },
     "execution_count": 19,
     "metadata": {},
     "output_type": "execute_result"
    }
   ],
   "source": [
    "#Example of output\n",
    "sfr"
   ]
  },
  {
   "cell_type": "markdown",
   "metadata": {},
   "source": [
    "Essentially, sfr is a an array of the same type as the original, only with the bad entries removed. Using the same indexing, create variables sfrs, masses, and metallicities by indexing your sfr, mass, and z arrays for the \"AVG\" column."
   ]
  },
  {
   "cell_type": "code",
   "execution_count": 24,
   "metadata": {
    "collapsed": false
   },
   "outputs": [],
   "source": [
    "sfrs = ...\n",
    "masses = ...\n",
    "metallicities = ..."
   ]
  },
  {
   "cell_type": "code",
   "execution_count": 18,
   "metadata": {
    "collapsed": false
   },
   "outputs": [
    {
     "data": {
      "text/plain": [
       "array([ 0.0813901 , -0.14585991, -0.3946299 , ...,  0.22899014,\n",
       "       -2.01221991, -0.80141979], dtype=float32)"
      ]
     },
     "execution_count": 18,
     "metadata": {},
     "output_type": "execute_result"
    }
   ],
   "source": [
    "#Example of what this output should look like\n",
    "print(sfrs)"
   ]
  },
  {
   "cell_type": "code",
   "execution_count": null,
   "metadata": {
    "collapsed": true
   },
   "outputs": [],
   "source": [
    "_ = ok.grade('q03')\n",
    "_ = ok.backup()"
   ]
  },
  {
   "cell_type": "markdown",
   "metadata": {},
   "source": [
    "Now we are getting somewhere. We have a single array for all the good star formation rates, an array of masses, and an array of metallicities. What is the Mass-Metallicity relation for galaxies? Let's find out. Define a function to plot mass vs metallicity as a 2D histogram with 300 bins (plt has a command for this). You'll want to utilize the \"LogNorm\" function I imported at the top to get a good color gradient- google \"plt 2d histogram LogNorm\" if you don't know how to do this already."
   ]
  },
  {
   "cell_type": "markdown",
   "metadata": {},
   "source": [
    "We are going to be creating a figure like this:\n",
    "![title](mass_metalicity.png)"
   ]
  },
  {
   "cell_type": "code",
   "execution_count": 22,
   "metadata": {
    "collapsed": true
   },
   "outputs": [],
   "source": [
    "def plot_mass_vs_metal(masses,metallicities):\n",
    "    '''\n",
    "    A function which plots a 2D histogram of Metallicity as a function of Mass \n",
    "    Uses the LogNorm() function to create a log colorscale.\n",
    "    PARAMS\n",
    "    ----------\n",
    "    masses (arr): Array of masses\n",
    "    metallicities (arr): array of metallicities\n",
    "    RETURNS\n",
    "    ----------\n",
    "    None; but plots a 2d histogram\n",
    "    '''\n",
    "    ... #Your code here\n",
    "    \n",
    "    plt.colorbar() #view the scaling of the colors\n",
    "    plt.title('Mass/Metallicity relation for SDSS Galaxies')\n",
    "    plt.xlabel(r'log Mass [$M_\\odot$]') #Handy, we can use LaTeX syntax in matplotlib\n",
    "    plt.ylabel(r'log Gas Phase Metallicities')\n",
    "    plt.show()"
   ]
  },
  {
   "cell_type": "code",
   "execution_count": null,
   "metadata": {
    "collapsed": false
   },
   "outputs": [],
   "source": [
    "#Run the plotting function and see if it's the same as my figure. "
   ]
  },
  {
   "cell_type": "markdown",
   "metadata": {},
   "source": [
    "When you run your function, you should get an image identical to the one I have above. As we can see, the gas phase metallicity of a galaxy (that is, it's composition in terms of elements) has a positive correlation with the log Mass. However, maybe this is not quite a direct relation as we might think. We also pulled in Star Formation Rates. Perhaps those are also correlated? Fill in the functions below to make the histograms for SFR v metallicity and SFR v mass. "
   ]
  },
  {
   "cell_type": "markdown",
   "metadata": {},
   "source": [
    "![title](mass_sfr.png)\n",
    "![title](sfr_metalicity.png)"
   ]
  },
  {
   "cell_type": "code",
   "execution_count": 26,
   "metadata": {
    "collapsed": true
   },
   "outputs": [],
   "source": [
    "def plot_sfr_metal(sfrs,metallicities):\n",
    "    ... # Your code here\n",
    "    plt.title('SFR/Metallicity relation for SDSS Galaxies')\n",
    "    plt.colorbar()\n",
    "    plt.xlabel(r'log SFR')\n",
    "    plt.ylabel(r'log Gas Phase Metallicities')\n",
    "    plt.show()\n",
    "def plot_mass_sfr(masses=masses,sfrs=sfrs):\n",
    "    ... # Your code here\n",
    "    plt.title('Mass/SFR relation for SDSS Galaxies')\n",
    "    plt.colorbar()\n",
    "    plt.xlabel(r'log Mass')\n",
    "    plt.ylabel(r'log SFR')\n",
    "    plt.show()"
   ]
  },
  {
   "cell_type": "code",
   "execution_count": null,
   "metadata": {
    "collapsed": false
   },
   "outputs": [],
   "source": [
    "#Run your two functions here one after the other to plot and see if it looks like mine. "
   ]
  },
  {
   "cell_type": "markdown",
   "metadata": {},
   "source": [
    "Oh dear. It seems like SFR correlates positively with mass, and metallicity correlates positively with SFR. We need to tease out which of these things are actually correlated, and which only look correlated because they depend on something else which is correlated. \n",
    "\n",
    "One way we can do this is to take slices of one variable. For example, if metallicity truly does depend on mass, then for all galaxies of a single mass, the correlation should dissapear. We can do such a check for all three of our variables- taking slices of single SFR, metallicity, and mass, and see for which the positive correlation dissapears. \n",
    "\n",
    "In the space below, write 3 functions, which will bin your data by mass, metallicity, and sfr slices. In theory we would select multiple single slices (choosing a specific value), but in practice our bins will have to have a certain width. To make things easier, I have looked at the data and created a bins array for each function- see if you can figure out how it works (look at the bounds on the graphs above and the behavior of linspace). "
   ]
  },
  {
   "cell_type": "code",
   "execution_count": 34,
   "metadata": {
    "collapsed": true
   },
   "outputs": [],
   "source": [
    "def mass_bins(masses):\n",
    "    bins = np.linspace(7,12,10) #the data is already log, so we will go from log 7 to log 12 in mass (in Msun)\n",
    "    binned_masses = [] #set up empty arrys to be filled by for loops\n",
    "    binned_sfrs = []   #set up empty arrys to be filled by for loops\n",
    "    binned_z = []      #set up empty arrys to be filled by for loops\n",
    "    for i in range(len(bins)-1):\n",
    "        mass_indices = ...                   #check \"where\" masses are > left edge of bin and < right edge of bin\n",
    "        mass_indices = np.array(mass_indices) #make sure it's an array\n",
    "        masses_needed = ...                  #index masses for the indices found above\n",
    "        sfr_needed = ...                     #ditto for sfrs \n",
    "        z_needed =   ...                     #ditto for metallicities\n",
    "        binned_masses.append(masses_needed)\n",
    "        binned_sfrs.append(...)\n",
    "        binned_z.append(...)\n",
    "    return binned_masses, binned_sfrs, binned_z\n",
    "\n",
    "def sfr_bins(sfrs):\n",
    "    bins = np.linspace(-2,2,10)\n",
    "    binned_masses = []\n",
    "    binned_sfrs = []\n",
    "    binned_z = []\n",
    "    for i in range(len(bins)-1):\n",
    "        sfr_indices = ...\n",
    "        to_choose = np.array(sfr_indices)\n",
    "        masses_needed =  ...                #same process as above\n",
    "        sfr_needed = ...\n",
    "        z_needed = ...\n",
    "        binned_masses.append(...)\n",
    "        binned_sfrs.append(...)\n",
    "        binned_z.append(...)\n",
    "    return binned_masses, binned_sfrs, binned_z\n",
    "\n",
    "def z_bins(metallicities):\n",
    "    bins = np.linspace(8,9.5,10)\n",
    "    binned_masses = []\n",
    "    binned_sfrs = []\n",
    "    binned_z = []\n",
    "    for i in range(len(bins)-1):\n",
    "        z_indices = ...\n",
    "        to_choose = np.array(z_indices)\n",
    "        masses_needed = ...                #and once more (but for z)\n",
    "        sfr_needed = ...\n",
    "        z_needed = ...\n",
    "        binned_masses.append(...)\n",
    "        binned_sfrs.append(...)\n",
    "        binned_z.append(...)\n",
    "    return binned_masses, binned_sfrs, binned_z"
   ]
  },
  {
   "cell_type": "code",
   "execution_count": null,
   "metadata": {
    "collapsed": true
   },
   "outputs": [],
   "source": [
    "_ = ok.grade('q04')\n",
    "_ = ok.backup()"
   ]
  },
  {
   "cell_type": "markdown",
   "metadata": {},
   "source": [
    "Lastly, let's write some simple functions to plot up all the sliced data: (This time use 100 bins since there is less data per plot). "
   ]
  },
  {
   "cell_type": "code",
   "execution_count": 35,
   "metadata": {
    "collapsed": true
   },
   "outputs": [],
   "source": [
    "def plot_mbins(masses=masses):\n",
    "    m,s,z = mass_bins(masses)\n",
    "    for i in range(len(m)):\n",
    "        ...                   #2d histogram, think about what to index here!\n",
    "        plt.xlabel('Log SFR')\n",
    "        plt.ylabel('Log Metallicity')\n",
    "        plt.colorbar()\n",
    "        plt.figure()\n",
    "    plt.show()\n",
    "    return\n",
    "    \n",
    "def plot_sfrbins(sfrs=sfrs):\n",
    "    m,s,z = sfr_bins(sfrs)\n",
    "    for i in range(len(m)):\n",
    "        ...                   #2d histogram, think about what to index here!\n",
    "        plt.xlabel('Log Mass')\n",
    "        plt.ylabel('Log Metallicity')\n",
    "        plt.colorbar()\n",
    "        plt.figure()\n",
    "    plt.show()\n",
    "    return\n",
    "def plot_zbins(metallicities=metallicities):\n",
    "    m,s,z = z_bins(metallicities)\n",
    "    for i in range(len(m)):\n",
    "        ...                    #2d histogram, think about what to index here!\n",
    "        plt.xlabel('Log Mass')\n",
    "        plt.ylabel('Log SFR')\n",
    "        plt.colorbar()\n",
    "        plt.figure()\n",
    "    plt.show()\n",
    "    return"
   ]
  },
  {
   "cell_type": "markdown",
   "metadata": {},
   "source": [
    "As a final step, lets run our functions below, and see what we get: "
   ]
  },
  {
   "cell_type": "code",
   "execution_count": null,
   "metadata": {
    "collapsed": false,
    "scrolled": false
   },
   "outputs": [],
   "source": [
    "plot_mbins()"
   ]
  },
  {
   "cell_type": "code",
   "execution_count": null,
   "metadata": {
    "collapsed": false
   },
   "outputs": [],
   "source": [
    "plot_sfrbins()"
   ]
  },
  {
   "cell_type": "code",
   "execution_count": null,
   "metadata": {
    "collapsed": false
   },
   "outputs": [],
   "source": [
    "plot_zbins()"
   ]
  },
  {
   "cell_type": "markdown",
   "metadata": {},
   "source": [
    "How did your plots look? Did you find that one of the three positive correlations dissapeared when binning? If not, keep trying, but if so, run the cell below to see my plots for this exercise:"
   ]
  },
  {
   "cell_type": "markdown",
   "metadata": {},
   "source": [
    "## Mass Bins\n",
    "![title](mass_bins.png)\n",
    "## SFR Bins\n",
    "![title](sfr_bins.png)\n",
    "## Metallicity Bins\n",
    "![title](z_bins.png)"
   ]
  },
  {
   "cell_type": "markdown",
   "metadata": {},
   "source": [
    "As we can see, the relationship between SFR and metallicity disappears at a single mass slice (the first ten plots). Thus, SFR and metallicity are not truly correlated, but only appear so when all masses are included because each depends on mass (which can be seen in the second and third set of plots, where for single slice in metallicity, the SFR/mass relation still exists, and for single slices in SFR, the mass/metallicity relation still exists. \n",
    "\n",
    "Congrats! You made it to the end of the tutorial!"
   ]
  },
  {
   "cell_type": "code",
   "execution_count": null,
   "metadata": {
    "collapsed": true
   },
   "outputs": [],
   "source": [
    "# Now, we'll submit to okpy\n",
    "_ = ok.submit()"
   ]
  }
 ],
 "metadata": {
  "anaconda-cloud": {},
  "kernelspec": {
   "display_name": "Python [conda env:pydecal]",
   "language": "python",
   "name": "conda-env-pydecal-py"
  },
  "language_info": {
   "codemirror_mode": {
    "name": "ipython",
    "version": 3
   },
   "file_extension": ".py",
   "mimetype": "text/x-python",
   "name": "python",
   "nbconvert_exporter": "python",
   "pygments_lexer": "ipython3",
   "version": "3.5.2"
  }
 },
 "nbformat": 4,
 "nbformat_minor": 0
}
