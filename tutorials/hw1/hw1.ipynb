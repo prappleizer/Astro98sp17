{
 "cells": [
  {
   "cell_type": "markdown",
   "metadata": {},
   "source": [
    "# Tutorial 1: 1/27/2016-Unix and Intro to Python"
   ]
  },
  {
   "cell_type": "markdown",
   "metadata": {},
   "source": [
    "UNIX is a powerful tool when properly used and is necessary in order to operate programs remotely on a server or a supercomputer. If you do take an astronomy lab course, you will learn these tools quickly.\n",
    "For this course, there are a few commands which will be particularly useful.\n",
    "\n",
    "Complete the tutorial below by following the instructions, and then submitting this ipython notebook to bcourses. (Save it once you've run all the code blocks you've written/edited, so that we can see the outputs in the notebook as well)"
   ]
  },
  {
   "cell_type": "code",
   "execution_count": null,
   "metadata": {
    "collapsed": false
   },
   "outputs": [],
   "source": [
    "import numpy as np \n",
    "!pip install -U okpy\n",
    "from client.api.notebook import Notebook\n",
    "ok = Notebook('hw1.ok')"
   ]
  },
  {
   "cell_type": "markdown",
   "metadata": {},
   "source": [
    "###### 1.  In the cell below, use the command which allows you to show the currently directory you are working in."
   ]
  },
  {
   "cell_type": "code",
   "execution_count": null,
   "metadata": {
    "collapsed": false
   },
   "outputs": [],
   "source": []
  },
  {
   "cell_type": "markdown",
   "metadata": {},
   "source": [
    "###### 2. Now that we know where we are, list all of the elements present in the current directory"
   ]
  },
  {
   "cell_type": "code",
   "execution_count": null,
   "metadata": {
    "collapsed": false
   },
   "outputs": [],
   "source": []
  },
  {
   "cell_type": "markdown",
   "metadata": {},
   "source": [
    "###### 3. Hidden files and saving directory contents to a text file"
   ]
  },
  {
   "cell_type": "markdown",
   "metadata": {},
   "source": [
    "We now know where we are and what is in our directory. In addition to just the name of the files, we can find out about hidden files and when files were created. Since UNIX is designed to be a multi-user system, each file has a set of permissions with it that are unique for each user. We can access this info with the tags -a and -l. It is also possible to combine tags so that we do not have to keep writing dashes.\n",
    "\n",
    "<b>Run the code block below</b>"
   ]
  },
  {
   "cell_type": "code",
   "execution_count": null,
   "metadata": {
    "collapsed": false
   },
   "outputs": [],
   "source": [
    "ls -al"
   ]
  },
  {
   "cell_type": "markdown",
   "metadata": {},
   "source": [
    "With this information, we can save the output of this command using the \">>\" command. Run the command below and then use ls to see that it is indeed there. If you open up the file you should see the output of our previous ls -al command."
   ]
  },
  {
   "cell_type": "code",
   "execution_count": null,
   "metadata": {
    "collapsed": false
   },
   "outputs": [],
   "source": [
    "ls -al >> foldercontents.txt"
   ]
  },
  {
   "cell_type": "markdown",
   "metadata": {},
   "source": [
    "###### 4. Moving and Manipulating files"
   ]
  },
  {
   "cell_type": "markdown",
   "metadata": {},
   "source": [
    "Now that we have this new file we can manipulate it. Write a command below to move the file you just created to the directory above your current one. (there's a shortcut for this)"
   ]
  },
  {
   "cell_type": "code",
   "execution_count": null,
   "metadata": {
    "collapsed": false
   },
   "outputs": [],
   "source": []
  },
  {
   "cell_type": "markdown",
   "metadata": {},
   "source": [
    "Change your working directory to the directory where you placed this file.\n"
   ]
  },
  {
   "cell_type": "code",
   "execution_count": null,
   "metadata": {
    "collapsed": false
   },
   "outputs": [],
   "source": []
  },
  {
   "cell_type": "markdown",
   "metadata": {},
   "source": [
    "In this new directory, make a copy of your new file.\n"
   ]
  },
  {
   "cell_type": "code",
   "execution_count": null,
   "metadata": {
    "collapsed": false
   },
   "outputs": [],
   "source": []
  },
  {
   "cell_type": "markdown",
   "metadata": {},
   "source": [
    "Now that we have a copy of it, destroy the original file."
   ]
  },
  {
   "cell_type": "code",
   "execution_count": null,
   "metadata": {
    "collapsed": false
   },
   "outputs": [],
   "source": []
  },
  {
   "cell_type": "markdown",
   "metadata": {},
   "source": [
    "You should start to feel comfortable using UNIX commands. If you are ever unsure of what something does, you can use \"man something\" to bring up the manual for whatever command you are interested in.\n",
    "\n",
    "Lastly, use the cell below to cd yourself into the directory you ran this notebook from (something/Astro98sp17/tutorials/hw1"
   ]
  },
  {
   "cell_type": "code",
   "execution_count": null,
   "metadata": {
    "collapsed": true
   },
   "outputs": [],
   "source": []
  },
  {
   "cell_type": "markdown",
   "metadata": {},
   "source": [
    "# Python"
   ]
  },
  {
   "cell_type": "markdown",
   "metadata": {},
   "source": [
    "###### 5. Python Division"
   ]
  },
  {
   "cell_type": "markdown",
   "metadata": {},
   "source": [
    "In the lecture, we talked about casting. In the cell below, try casting an integer as a string, a float as a string, and a float as a lit. Save these to variable names a, b, and c. "
   ]
  },
  {
   "cell_type": "code",
   "execution_count": null,
   "metadata": {
    "collapsed": false
   },
   "outputs": [],
   "source": []
  },
  {
   "cell_type": "markdown",
   "metadata": {},
   "source": [
    "###### 6. String/List Manipulation"
   ]
  },
  {
   "cell_type": "markdown",
   "metadata": {},
   "source": [
    "Generate a list of strings and numbers"
   ]
  },
  {
   "cell_type": "code",
   "execution_count": null,
   "metadata": {
    "collapsed": false
   },
   "outputs": [],
   "source": [
    "list_of_strings = "
   ]
  },
  {
   "cell_type": "markdown",
   "metadata": {},
   "source": [
    "Now turn that list into a string and display its output."
   ]
  },
  {
   "cell_type": "code",
   "execution_count": null,
   "metadata": {
    "collapsed": false
   },
   "outputs": [],
   "source": []
  },
  {
   "cell_type": "markdown",
   "metadata": {},
   "source": [
    "Now  try to turn it into a float or an int. What happens and why? "
   ]
  },
  {
   "cell_type": "code",
   "execution_count": null,
   "metadata": {
    "collapsed": false
   },
   "outputs": [],
   "source": []
  },
  {
   "cell_type": "markdown",
   "metadata": {
    "collapsed": false
   },
   "source": [
    "**Write your text here**"
   ]
  },
  {
   "cell_type": "markdown",
   "metadata": {},
   "source": [
    "###### 7. Indexing"
   ]
  },
  {
   "cell_type": "markdown",
   "metadata": {},
   "source": [
    "Create a variable in the code block below called num_list, and set it equal to a list containing 42,46,54,65, and 90 as elements. Below it (same code block), set a variable called sliced to num_list[3]. Print both to see what it outputs."
   ]
  },
  {
   "cell_type": "code",
   "execution_count": null,
   "metadata": {
    "collapsed": false
   },
   "outputs": [],
   "source": []
  },
  {
   "cell_type": "code",
   "execution_count": null,
   "metadata": {
    "collapsed": false
   },
   "outputs": [],
   "source": [
    "_ = ok.grade('q01')\n",
    "_ = ok.backup()"
   ]
  },
  {
   "cell_type": "markdown",
   "metadata": {},
   "source": [
    "In the code block below, define a variable called \"total\" and use the method shown above to set it equal to the sum of the first two elements in \"num_list\" (do this programmatically not by typing them in manually).  (you have to run the above code block first, to get num_list into system memory. Print \"total\". You should get 88. If you don't, try to figure out what went wrong. Did you get 100? Look closely back at what num_list[3] referred to. "
   ]
  },
  {
   "cell_type": "code",
   "execution_count": null,
   "metadata": {
    "collapsed": false
   },
   "outputs": [],
   "source": []
  },
  {
   "cell_type": "markdown",
   "metadata": {},
   "source": [
    "###### 8. Exploring basic manipulations"
   ]
  },
  {
   "cell_type": "markdown",
   "metadata": {},
   "source": [
    "In the code block below, create a string called fname and set it equal to a string containing your first name. Also create a string called lname and set it equal to your last name. Below that, set a varible called \"name\" equal to fname + lname and print \"name\" to see what happened."
   ]
  },
  {
   "cell_type": "code",
   "execution_count": null,
   "metadata": {
    "collapsed": false
   },
   "outputs": [],
   "source": []
  },
  {
   "cell_type": "markdown",
   "metadata": {},
   "source": [
    "If your name is smooshed together, it's because python concatenates strings character by character. Go up and rerun the block, fixing the smooshed name (there are multiple ways- you could add a space into one of the strings, or try fname + ' ' + lname. )\n",
    "\n",
    "In the code block below, create a list and fill it with several entries (anything you want). Below that, try printing your list times a number (e.g. list1\\*6). Note the output."
   ]
  },
  {
   "cell_type": "code",
   "execution_count": null,
   "metadata": {
    "collapsed": false
   },
   "outputs": [],
   "source": []
  },
  {
   "cell_type": "markdown",
   "metadata": {},
   "source": [
    "**write what happens here**"
   ]
  },
  {
   "cell_type": "markdown",
   "metadata": {},
   "source": [
    "Now let's try the same thing with numpy arrays. We've gone ahead and imported numpy as np and created an array. Set a new variable called arr2 in which you multiply arr by 6. Notice the difference in behavior."
   ]
  },
  {
   "cell_type": "code",
   "execution_count": null,
   "metadata": {
    "collapsed": false
   },
   "outputs": [],
   "source": [
    "arr = np.array([1.,5,7,4,2,5,7,43,1])"
   ]
  },
  {
   "cell_type": "code",
   "execution_count": null,
   "metadata": {
    "collapsed": false
   },
   "outputs": [],
   "source": [
    "_ = ok.grade('q02')\n",
    "_ = ok.backup()"
   ]
  },
  {
   "cell_type": "markdown",
   "metadata": {},
   "source": [
    "That should give you some insight into one of the differences between lists and arrays. "
   ]
  },
  {
   "cell_type": "markdown",
   "metadata": {},
   "source": [
    "###### 9. Fixing some mistakes"
   ]
  },
  {
   "cell_type": "markdown",
   "metadata": {},
   "source": [
    "In the following code blocks, we've introduced some deliberate syntax errors (muahaha). Find the errors (each block may contain more than one) until you get the code block to run properly."
   ]
  },
  {
   "cell_type": "code",
   "execution_count": null,
   "metadata": {
    "collapsed": false
   },
   "outputs": [],
   "source": [
    "import numpi as np \n",
    "arr_1 = array(1,2,3,4,5)\n",
    "list_1 = [1,2,'3',)\n",
    "\n",
    "string = 'this is a string\"\n",
    "print array\n"
   ]
  },
  {
   "cell_type": "code",
   "execution_count": null,
   "metadata": {
    "collapsed": false
   },
   "outputs": [],
   "source": [
    "list_of_nums == [1,2,3,4,5,6,7,8,9,0,0,9,7,,4,3,2,4,5,7,8,90]\n",
    "arr_version = array(list_of_nums)\n",
    "print(list_of_nums)"
   ]
  },
  {
   "cell_type": "markdown",
   "metadata": {},
   "source": [
    "###### 10. Something new"
   ]
  },
  {
   "cell_type": "markdown",
   "metadata": {},
   "source": [
    "As a last note, we are going to introduce a datatype we didn't go over before. This datatype is known as a <b>dictionary</b>. It's useful at times, but for the most part, you won't be using them. In the tutorial above, you saw that you could get the ith \"thing\" in a list (or array or string) by a proccess known as \"indexing\"- that was the num_list[3] thing. Accessing data in a dictionary is a little bit different. Instead of having to know exactly which entry your value is stored in the disctionary, you attach what's known as a <b>key</b> to it. Dictionaries are composed of keys paired with values, and you can \"index\" your dictionary (with the same [] notation) using the keys. Here's an example:"
   ]
  },
  {
   "cell_type": "code",
   "execution_count": null,
   "metadata": {
    "collapsed": false
   },
   "outputs": [],
   "source": [
    "my_dict = {'key':'value','key2':5,'key3':42,16:'word'}"
   ]
  },
  {
   "cell_type": "markdown",
   "metadata": {},
   "source": [
    "Notice the syntax for setting up the dictionary- curly brackets {} enclose the dictionary, and then you have the syntax of key:value pairs separated by commas. Note that the keys and values can be of any data type as long as each key is unique. Set a variable below called word which indexes the dictionary by key to pull the 'word' string out of it (see the nums indexing above for the synatx, but remember we index by key here). "
   ]
  },
  {
   "cell_type": "code",
   "execution_count": null,
   "metadata": {
    "collapsed": false
   },
   "outputs": [],
   "source": []
  },
  {
   "cell_type": "code",
   "execution_count": null,
   "metadata": {
    "collapsed": false
   },
   "outputs": [],
   "source": [
    "_ = ok.grade('q03')\n",
    "_ = ok.backup()"
   ]
  },
  {
   "cell_type": "code",
   "execution_count": null,
   "metadata": {
    "collapsed": false
   },
   "outputs": [],
   "source": [
    "_ = ok.submit() #submit your assignment!"
   ]
  },
  {
   "cell_type": "code",
   "execution_count": null,
   "metadata": {
    "collapsed": true
   },
   "outputs": [],
   "source": []
  }
 ],
 "metadata": {
  "kernelspec": {
   "display_name": "Python 3",
   "language": "python",
   "name": "python3"
  },
  "language_info": {
   "codemirror_mode": {
    "name": "ipython",
    "version": 3
   },
   "file_extension": ".py",
   "mimetype": "text/x-python",
   "name": "python",
   "nbconvert_exporter": "python",
   "pygments_lexer": "ipython3",
   "version": "3.5.2"
  }
 },
 "nbformat": 4,
 "nbformat_minor": 0
}
