{
 "cells": [
  {
   "cell_type": "markdown",
   "metadata": {
    "slideshow": {
     "slide_type": "slide"
    }
   },
   "source": [
    "# Lecture Six: Review of Weeks 1-5 + Intro to Classes"
   ]
  },
  {
   "cell_type": "markdown",
   "metadata": {
    "slideshow": {
     "slide_type": "subslide"
    }
   },
   "source": [
    "The last few weeks have gone by pretty quickly, and there's been a lot to learn. It is also peak midterm time right now. So generally we take this week as a review of the content we've already covered as well as introducing classes, since they'll be a tricky(ish) new syntax to learn for next week."
   ]
  },
  {
   "cell_type": "markdown",
   "metadata": {
    "slideshow": {
     "slide_type": "slide"
    }
   },
   "source": [
    "## Part 1: Review"
   ]
  },
  {
   "cell_type": "markdown",
   "metadata": {
    "slideshow": {
     "slide_type": "subslide"
    }
   },
   "source": [
    "### Variables and Datatypes"
   ]
  },
  {
   "cell_type": "markdown",
   "metadata": {
    "slideshow": {
     "slide_type": "fragment"
    }
   },
   "source": [
    "- In python, all of the quantities we are interested in working in are stored into what are called variables. \n",
    "\n",
    "- We set variables by setting our chosen variable name = value we want it to take. \n",
    "\n",
    "- For example, if we want to take the transpose of an array A, (which has already been defined), we would write:"
   ]
  },
  {
   "cell_type": "code",
   "execution_count": null,
   "metadata": {
    "collapsed": false,
    "slideshow": {
     "slide_type": "fragment"
    }
   },
   "outputs": [],
   "source": [
    "A = np.transpose(A)"
   ]
  },
  {
   "cell_type": "markdown",
   "metadata": {
    "slideshow": {
     "slide_type": "subslide"
    }
   },
   "source": [
    "If we had just run the transpose function, python would have done the transpose but not saved it anywhere so we would have no way to access that transposed array. \n",
    "\n",
    "We always have a choice to save the outputs of functions into new variables, or redefine variables we had before if we want to keep the total number of variables down and have no interest in the previous quantity. When working in ipython notebooks though, it is almost imperative that you use new variable names every time, since the order you run the cells in matters."
   ]
  },
  {
   "cell_type": "markdown",
   "metadata": {
    "slideshow": {
     "slide_type": "subslide"
    }
   },
   "source": [
    "### Datatypes"
   ]
  },
  {
   "cell_type": "markdown",
   "metadata": {
    "slideshow": {
     "slide_type": "subslide"
    }
   },
   "source": [
    "The variables that we create have to be one of several available datatypes that python knows how to handle. The rules that apply to each datatype are different, so we want to choose to store our information in the datatype that is most suited to our needs. \n",
    "\n",
    "The primary datatypes we work with are:\n",
    "\n",
    "- Integers, which use little memory \n",
    "\n",
    "- Floats, which have decimal precision (most data info is here)\n",
    "\n",
    "- Strings, which let us store any characters into a small object\n",
    "\n",
    "- Lists, which allow us to store all datatypes into an ordered set\n",
    "\n",
    "- Numpy Arrays, which do the same, but have different operations and only work with single datatypes \n",
    "\n",
    "- Dictionaries, which let us create lists that are indexed by a special key rather than by position\n",
    "\n",
    "- Booleans (True and False)\n",
    "\n",
    "-Tuples : what the np.where function returns \n",
    "\n"
   ]
  },
  {
   "cell_type": "markdown",
   "metadata": {
    "slideshow": {
     "slide_type": "slide"
    }
   },
   "source": [
    "### Indexing"
   ]
  },
  {
   "cell_type": "markdown",
   "metadata": {
    "slideshow": {
     "slide_type": "subslide"
    }
   },
   "source": [
    "Recall that we index the iterable datatypes (strings, lists, arrays) by adding closed brackets to their variable names and the element number we want to access. Most of the tricky parts in programming involve figuring out which elements of a list we are actually interested in (ie, where are the peaks, or the minimums etc). \n",
    "We can index multiple values using colon notation (i.e., thing[1:4]), or for multidimensional arrays, in row column format (thing[1:3,2:4]).\n",
    "\n",
    "For dictionaries we have the same formatting but we substitute a key in the brackets. **Note** that dictionaries are (at least in python 2 for sure) unordered; the order entries appear doesn't matter because you only extract things by key. When you want to use a for-loop over things in a dictionary, a handy method is the dict.keys(), which works like \n",
    "\n",
    "```\n",
    "for i in some_dict.keys():\n",
    "  val = some_dict[i]\n",
    "```\n",
    "\n",
    "Lastly, we learned about indexing by conditions using np.where. You can actually also do this straight in python for most simple cases; that is, \n",
    "\n",
    "```\n",
    "A = np.array([1,2,3,4,5,6,7,8,9,10])\n",
    "B = A[A>5] \n",
    "```\n",
    "\n",
    "Where we are basically indexing A everywhere A > 5 and storing that sub-array of A as B. \n",
    "Why use np.where then? The method I used here doesn't tell us the indices of where the condition is true, it handles the \"where\" and the \"index the thing\" at the same time, but sometimes we want to know the indices for other reasons. "
   ]
  },
  {
   "cell_type": "markdown",
   "metadata": {
    "slideshow": {
     "slide_type": "slide"
    }
   },
   "source": [
    "## Functions"
   ]
  },
  {
   "cell_type": "markdown",
   "metadata": {
    "slideshow": {
     "slide_type": "subslide"
    }
   },
   "source": [
    "Loops make it easy to automate tasks. Just as we have written scripts to perform a variety of tasks, we can write and define functions to do something more specific so we don't have to run whole scripts each time. \n",
    "Splitting programs up into functions makes them easier to read and easier to interface with.\n",
    "A good function should perform a simple task. For example, if you want to convert rest masses into energies you would write something like"
   ]
  },
  {
   "cell_type": "code",
   "execution_count": 4,
   "metadata": {
    "collapsed": false,
    "slideshow": {
     "slide_type": "subslide"
    }
   },
   "outputs": [],
   "source": [
    "def mass_to_en(mass):\n",
    "    c=3.0e8\n",
    "    energy = mass*c**2\n",
    "    return energy, c\n",
    "en, cc = mass_to_en(10)\n",
    "\n"
   ]
  },
  {
   "cell_type": "markdown",
   "metadata": {
    "slideshow": {
     "slide_type": "fragment"
    }
   },
   "source": [
    "In this example, the mass is some arbitrary argument which we pass into the function in order to get the energy. we have returned the parameter we are interested in. The return statement is incredibly important. In functions, we can choose to return different datatypes. Using the information returned by a function is what makes them actually useful. Understanding how to utilize them is essential.\n"
   ]
  },
  {
   "cell_type": "markdown",
   "metadata": {
    "slideshow": {
     "slide_type": "subslide"
    }
   },
   "source": [
    "### Scope \n",
    "\n",
    "Remember that variables defined inside functions cannot be accessed once the function is done running unless those variables are somehow included in the return statement. \n",
    "\n",
    "Also remember that while technically, a function can access any globally defined variable in your code (say, if some variable ```star_name``` were defined up in your script and then you used that name in your function), but this is bad practice. You should define all needed inputs to your functions as arguments and define them locally in your functions. That way your function can be easily transplanted to other codes and bugs in your scripts don't propogate to your functions."
   ]
  },
  {
   "cell_type": "markdown",
   "metadata": {
    "slideshow": {
     "slide_type": "subslide"
    }
   },
   "source": [
    "### Optional Arguments \n",
    "\n",
    "As we saw in the last tutorial, sometimes we want to have optional arguments for our functions, things that are set by default but can be easily adjusted when running the function (this is what our ```do_plot=True``` in the last tutorial was doing). \n",
    "\n",
    "This can be handy for having optional plotting commands, or say, how np.arange(10) works as well as np.arange(0,10,1) (where start and step are defaulted). When the creators of numpy wrote this function, it looked (something) like this:\n",
    "\n",
    "```\n",
    "def arange(stop, start=0,step=1):\n",
    "   blah blah blah \n",
    "```\n",
    "\n",
    "where stop is the only **required** argument and start and step have default values if you don't specify them. Note that when doing optional arguments like this (where their value is set), you have to list them after all the non-optional arguments as I've done above. Numpy then went and did some funky things to tell it that when 2 numbers are entered, assume start and stop, when three, assume start, stop, step. It will return an empty array if you went in the order stop, start, step). "
   ]
  },
  {
   "cell_type": "markdown",
   "metadata": {
    "slideshow": {
     "slide_type": "subslide"
    }
   },
   "source": [
    "### Variable Length Arguments\n",
    "\n",
    "Here's something we haven't touched on yet. What if you want your function to be able to take 5, or 10, or 20 inputs, based on some other output of your code? \n",
    "\n",
    "We can do that using the \\* args and \\*\\*kwargs options when defining functions. Here's an example"
   ]
  },
  {
   "cell_type": "code",
   "execution_count": null,
   "metadata": {
    "collapsed": true,
    "slideshow": {
     "slide_type": "fragment"
    }
   },
   "outputs": [],
   "source": [
    "def test_function(farg,*args):\n",
    "    print('formal_argument: ', farg)\n",
    "    for arg in args:\n",
    "        print('another arg: ',arg)\n",
    "    "
   ]
  },
  {
   "cell_type": "markdown",
   "metadata": {
    "slideshow": {
     "slide_type": "subslide"
    }
   },
   "source": [
    "So what’s going on here? the formal argument farg is read in like a normal argument. We could\n",
    "have any number of these. But we’ve specified the last argument as \\*args, which tells python “Hey,you’re gonna get some unknown number of inputs after this- stick em all in a list called ‘args’ for me.’ Then, within the function, you can iterate through the list of extra inputs and do things with them individually. You can also do checks to see how many extra arguments were passed (using len(args)). \n",
    "\n",
    "What about \\*\\*kwargs?"
   ]
  },
  {
   "cell_type": "code",
   "execution_count": null,
   "metadata": {
    "collapsed": true,
    "slideshow": {
     "slide_type": "fragment"
    }
   },
   "outputs": [],
   "source": [
    "def test_function(farg,**kwargs):\n",
    "    print('formal_argument: ', farg)\n",
    "    for key in kwargs:\n",
    "        print('another arg: ',kwargs[key])"
   ]
  },
  {
   "cell_type": "markdown",
   "metadata": {
    "slideshow": {
     "slide_type": "subslide"
    }
   },
   "source": [
    "Essentially, instead of adding new variables to your function when calling like \n",
    "```\n",
    "test_function(farg, arg1, arg2, arg3)\n",
    "```\n",
    "\n",
    "like you would in the first example, all non-formal arguments would need a key attached (via equals sign) like \n",
    "\n",
    "```\n",
    "test_function(farg,arg1=something,arg2=somethingelse)\n",
    "```\n",
    "\n",
    "and then instead of a list of extra arguments, you have a dictionary where in this case arg1 and arg2 are the keys, and can be used to access whatever something and somethingelse are. "
   ]
  },
  {
   "cell_type": "code",
   "execution_count": 3,
   "metadata": {
    "collapsed": false,
    "slideshow": {
     "slide_type": "subslide"
    }
   },
   "outputs": [
    {
     "name": "stdout",
     "output_type": "stream",
     "text": [
      "3\n",
      "[0, 1, 2, 3, 4, 5, 6, 7, 8, 9]\n"
     ]
    }
   ],
   "source": [
    "def lists():\n",
    "    a = range(0,100)\n",
    "    b = range(100,200)\n",
    "    c = range(200,300)\n",
    "    return [a,b,c]\n",
    "confusion = lists()\n",
    "#what should the length of this be?\n",
    "print len(confusion)\n",
    "#why is it this?\n",
    "print confusion[0][0:10]\n",
    "#how would we get the first ten elements of the first array?"
   ]
  },
  {
   "cell_type": "markdown",
   "metadata": {
    "slideshow": {
     "slide_type": "slide"
    }
   },
   "source": [
    "### Recursion"
   ]
  },
  {
   "cell_type": "markdown",
   "metadata": {
    "slideshow": {
     "slide_type": "subslide"
    }
   },
   "source": [
    "Recursion is a useful technique for reducing complex problems into simpler problems. Recursive formulas are often used in mathematics. The fibonacci sequence is an example of a recursive formula. Recursion involves having a function call itself until it reaches a certain condition. For determining a factorial we would write "
   ]
  },
  {
   "cell_type": "code",
   "execution_count": 8,
   "metadata": {
    "collapsed": false,
    "slideshow": {
     "slide_type": "fragment"
    }
   },
   "outputs": [
    {
     "name": "stdout",
     "output_type": "stream",
     "text": [
      "12\n",
      "11\n",
      "10\n",
      "9\n",
      "8\n",
      "7\n",
      "6\n",
      "5\n",
      "4\n",
      "3\n",
      "2\n",
      "1\n",
      "479001600\n"
     ]
    }
   ],
   "source": [
    "def factorial(n):\n",
    "    if n==0:\n",
    "        return 1\n",
    "    else:\n",
    "        print n\n",
    "        return n*factorial(n-1)\n",
    "print factorial(12)"
   ]
  },
  {
   "cell_type": "markdown",
   "metadata": {
    "slideshow": {
     "slide_type": "subslide"
    }
   },
   "source": [
    "Recursion is an alternative to using loops and can often simplify the problem you might wish to solve if there is some base case. "
   ]
  },
  {
   "cell_type": "markdown",
   "metadata": {
    "slideshow": {
     "slide_type": "slide"
    }
   },
   "source": [
    "# Classes"
   ]
  },
  {
   "cell_type": "markdown",
   "metadata": {
    "slideshow": {
     "slide_type": "subslide"
    }
   },
   "source": [
    "Classes are structures which allow us to organize information that is easily accessible through dot notation. Classes contain methods and attributes. A method is a function available through dot notation. An attribute is a parameter about the class as a whole or about a particular instance of a class. When a class is initialized, it is an instance of that specific class. Attributes can either be of class or instance type.\n",
    "Class attributes will be indepedent of th initialiation.\n",
    "Instance attributes will contain information about that specific instance of a class.\n",
    "An example of a class we have been frequently using is that of a numpy array.  Each time we write arr =np.array([data]) it creates an instance of the numpy array class. When we want to access information about that array like its length we would say arr_len = arr.size . If wanted to make a copy of that array we would write arr.copy() where copy is a method of the array class. \n",
    "Check out the example of a planet class below."
   ]
  },
  {
   "cell_type": "code",
   "execution_count": 5,
   "metadata": {
    "collapsed": false,
    "slideshow": {
     "slide_type": "subslide"
    }
   },
   "outputs": [
    {
     "name": "stdout",
     "output_type": "stream",
     "text": [
      "Planet 1 Mass:  1000\n",
      "Planet 1 Name:  mars\n",
      "Planet 1 Habitable:  False\n",
      "Grav Force between planet 1 and planet 2:  4.4466666666666665e-07\n"
     ]
    }
   ],
   "source": [
    "G = 6.67e-11\n",
    "import numpy as np\n",
    "\n",
    "class planet(object):\n",
    "    def __init__(self, mass, position):\n",
    "        self.mass = mass\n",
    "        self.position = position\n",
    "        habitable_check = np.random.randint(0,1)\n",
    "        if habitable_check == 1:\n",
    "            self.habitable = True\n",
    "        else:\n",
    "            self.habitable = False\n",
    "    def grav(self, body2):\n",
    "        return G*self.mass * body2.mass/((self.position - body2.position)**2)\n",
    "    \n",
    "planet1 = planet(1000, 10)\n",
    "print('Planet 1 Mass: ',planet1.mass)\n",
    "planet2 = planet(1500, 25)\n",
    "grav1_2 = planet1.grav(planet2)\n",
    "planet1.name = 'mars'\n",
    "print('Planet 1 Name: ',planet1.name)\n",
    "print('Planet 1 Habitable: ',planet1.habitable)\n",
    "print('Grav Force between planet 1 and planet 2: ', grav1_2)"
   ]
  },
  {
   "cell_type": "markdown",
   "metadata": {
    "slideshow": {
     "slide_type": "fragment"
    }
   },
   "source": [
    "The \\__init\\__ is how one sets up the initializion of classes in python. The self argument present in both functions is the class instance. It is fulfilled by the thing which precedes the dot when calling the method."
   ]
  }
 ],
 "metadata": {
  "anaconda-cloud": {},
  "celltoolbar": "Slideshow",
  "kernelspec": {
   "display_name": "Python [default]",
   "language": "python",
   "name": "python3"
  },
  "language_info": {
   "codemirror_mode": {
    "name": "ipython",
    "version": 3
   },
   "file_extension": ".py",
   "mimetype": "text/x-python",
   "name": "python",
   "nbconvert_exporter": "python",
   "pygments_lexer": "ipython3",
   "version": "3.5.2"
  }
 },
 "nbformat": 4,
 "nbformat_minor": 0
}
