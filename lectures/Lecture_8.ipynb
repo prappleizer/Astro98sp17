{
 "cells": [
  {
   "cell_type": "markdown",
   "metadata": {
    "slideshow": {
     "slide_type": "slide"
    }
   },
   "source": [
    "# Lecture 8: (THE LAST LECTURE!!!!!) [HTML]"
   ]
  },
  {
   "cell_type": "markdown",
   "metadata": {
    "slideshow": {
     "slide_type": "subslide"
    }
   },
   "source": [
    "HTML is short for hyper-text markup-language. At this point, that's almost an anachronistic name given the fancy shit websites are doing. \n",
    "\n",
    "You could (and people do) teach a whole class on html, and we are only having a single lecture. The point here is to get you up and running enough to make a simple, text oriented website, or successfully utilize an HTML/CSS template to make your own. \n",
    "\n",
    "If you are an astro major, you can get an account on the ugastro server and host a website there! for example: \n",
    "\n",
    "http://ugastro.berkeley.edu/~ipasha\n",
    "\n",
    "http://ugastro.berkeley.edu/~cagostino\n"
   ]
  },
  {
   "cell_type": "markdown",
   "metadata": {
    "slideshow": {
     "slide_type": "slide"
    }
   },
   "source": [
    "# Building a Website from Scratch "
   ]
  },
  {
   "cell_type": "markdown",
   "metadata": {
    "slideshow": {
     "slide_type": "subslide"
    }
   },
   "source": [
    "Html works a lot like LaTeX: you enclose relevant \"bits\" of things in what are known as html tags. Let's look at a barebones example of an html site:"
   ]
  },
  {
   "cell_type": "markdown",
   "metadata": {
    "slideshow": {
     "slide_type": "subslide"
    }
   },
   "source": [
    "            <!DOCTYPE html>\n",
    "            <html>\n",
    "            <body>\n",
    "\n",
    "            <h1>My First Heading</h1>\n",
    "            <p>My first paragraph.</p>\n",
    "\n",
    "            </body>\n",
    "            </html>"
   ]
  },
  {
   "cell_type": "markdown",
   "metadata": {
    "slideshow": {
     "slide_type": "fragment"
    }
   },
   "source": [
    "The first line indicates this is an html site. We always enclose with \n",
    "\n",
    "    <html> and </html> \n",
    "\n",
    "much like \n",
    "    \\begin{document} and \\end{document}.\n",
    "\n",
    "Then the body tag encloses the main text of our site (we can have a header section outside the body; we'll get to this in a sec).\n",
    "\n",
    "The h1 tag is a header tag- you can use h1, h2, h3, h4, which correspond to smaller fonts, respectively. Finally, the p tag is for paragraph, and it's where you shove normal text"
   ]
  },
  {
   "cell_type": "markdown",
   "metadata": {
    "slideshow": {
     "slide_type": "subslide"
    }
   },
   "source": [
    "Let's see what that index site looks like on the web. I've taken that simple site above and put it in a file called index1.html - let's open it (i'm using the link tag in markdown here): \n",
    "    \n",
    "    <a href='index1.html'>Link to index file</a>\n",
    "\n",
    "<a href='index1.html'>Link to index file</a>"
   ]
  },
  {
   "cell_type": "markdown",
   "metadata": {
    "slideshow": {
     "slide_type": "subslide"
    }
   },
   "source": [
    "Alright, so that website was a little bit boring. Let's spruce it up a bit. Let's add an image to our site for starters, and change the heading and paragraph text. "
   ]
  },
  {
   "cell_type": "markdown",
   "metadata": {
    "slideshow": {
     "slide_type": "fragment"
    }
   },
   "source": [
    "        <!DOCTYPE html>\n",
    "        <html>\n",
    "        <body>\n",
    "        <img src='git.png' height=\"300\" title=\"I like XKCD comics\">\n",
    "        <h1>Imad Pasha</h1>\n",
    "        <p>I is a kid.</p>\n",
    "\n",
    "        </body>\n",
    "        </html>"
   ]
  },
  {
   "cell_type": "markdown",
   "metadata": {
    "slideshow": {
     "slide_type": "subslide"
    }
   },
   "source": [
    "<a href='index2.html'>Let's see what that did</a>\n",
    "\n",
    "Cool. Now we're getting somewhere. One kinda annoying thing is right now the background of our site is pure white, which is a little glaring and boring. To add a background color, we have to dip into CSS a little bit. CSS stands for cascading style sheet. You can think of it as the \"style settings\" while html is the \"content.\" For a complicated site, the css is typically stored in it's own file. For our purposes, we can just stick it into the \"header\" of our html file. "
   ]
  },
  {
   "cell_type": "markdown",
   "metadata": {
    "slideshow": {
     "slide_type": "subslide"
    }
   },
   "source": [
    "        <!DOCTYPE html>\n",
    "        <html>\n",
    "        <head>\n",
    "        <style>\n",
    "        body {background-color: powderblue;}\n",
    "        h1   {color: blue;}\n",
    "        p    {color: red;}\n",
    "        </style>\n",
    "        </head>\n",
    "        <body>\n",
    "        <img src='git.png' height=\"300\" title=\"I like XKCD comics\">\n",
    "        <h1>Imad Pasha</h1>\n",
    "        <p>I like space.</p>\n",
    "\n",
    "        </body>\n",
    "        </html>"
   ]
  },
  {
   "cell_type": "markdown",
   "metadata": {
    "slideshow": {
     "slide_type": "fragment"
    }
   },
   "source": [
    "<a href='index3.html'>What did that do?</a>"
   ]
  },
  {
   "cell_type": "markdown",
   "metadata": {
    "slideshow": {
     "slide_type": "subslide"
    }
   },
   "source": [
    "EEP Jesus that was awful! Please pick more balanced colors when you do this. I referred to the colors here by name; however, for more control, you can specify the actual hex number for each color. Let's go to a color picker (google): <a href=\"https://www.google.com/search?q=html+color+picker&oq=html+color+picker&aqs=chrome..69i57j0l5.4348j0j7&sourceid=chrome&ie=UTF-8\">YAS GOOGLE</a> \n"
   ]
  },
  {
   "cell_type": "markdown",
   "metadata": {
    "slideshow": {
     "slide_type": "fragment"
    }
   },
   "source": [
    "What if I want to center everything on the site i just made?"
   ]
  },
  {
   "cell_type": "markdown",
   "metadata": {
    "slideshow": {
     "slide_type": "subslide"
    }
   },
   "source": [
    "        <!DOCTYPE html>\n",
    "        <html>\n",
    "        <body style=\"text-align: center;\">\n",
    "        <img src='git.png' height=\"300\" title=\"I like XKCD comics\">\n",
    "        <h1>Imad Pasha</h1>\n",
    "        <p>I like space.</p>\n",
    "\n",
    "        </body>\n",
    "        </html>"
   ]
  },
  {
   "cell_type": "markdown",
   "metadata": {
    "slideshow": {
     "slide_type": "subslide"
    }
   },
   "source": [
    "<a href=\"index4.html\">Let's take a look.</a>\n",
    "\n",
    "I can get a little bit fancier. Here I'm going to add a horizontal rule and add a couple of links. \n",
    "\n",
    "<a href=\"index5.html\">Let's take a look.</a>\n"
   ]
  },
  {
   "cell_type": "markdown",
   "metadata": {
    "slideshow": {
     "slide_type": "subslide"
    }
   },
   "source": [
    "If you use a template from online, you'll probably find that the css is stored in a different file. Let's see how to link the two. I've decided I want a style div (like a container) that can make drop down text. My method for doing this will be simple: steal some code off the internet. \n",
    "\n",
    "The following is the css code we'll need:"
   ]
  },
  {
   "cell_type": "markdown",
   "metadata": {
    "slideshow": {
     "slide_type": "fragment"
    }
   },
   "source": [
    "        wrap { \n",
    "            width: 900px; \n",
    "            margin: 0 auto;\n",
    "            text-align: center; \n",
    "        }\n",
    "\n",
    "        .read-more-state {\n",
    "          display: none;\n",
    "        }\n",
    "\n",
    "        .read-more-target {\n",
    "          opacity: 0;\n",
    "          max-height: 0;\n",
    "          font-size: 0;\n",
    "          transition: .25s ease;\n",
    "        }\n",
    "\n",
    "        .read-more-state:checked ~ .read-more-wrap .read-more-target {\n",
    "          opacity: 1;\n",
    "          font-size: inherit;\n",
    "          max-height: 999em;\n",
    "        }\n",
    "\n",
    "        .read-more-state ~ .read-more-trigger:before {\n",
    "          content: 'Show more';\n",
    "        }\n",
    "\n",
    "        .read-more-state:checked ~ .read-more-trigger:before {\n",
    "          content: 'Show less';\n",
    "        }\n",
    "\n",
    "        .read-more-trigger {\n",
    "          cursor: pointer;\n",
    "          display: inline-block;\n",
    "          padding: 0 .5em;\n",
    "          color: #666;\n",
    "          font-size: .9em;\n",
    "          line-height: 2;\n",
    "          border: 1px solid #ddd;\n",
    "          border-radius: .25em;\n",
    "        }"
   ]
  },
  {
   "cell_type": "markdown",
   "metadata": {
    "slideshow": {
     "slide_type": "subslide"
    }
   },
   "source": [
    "I've gone ahead and saved that code in a file called styles.css which we will now link to our index.html like this:"
   ]
  },
  {
   "cell_type": "markdown",
   "metadata": {
    "slideshow": {
     "slide_type": "fragment"
    }
   },
   "source": [
    "        <!DOCTYPE html>\n",
    "        <html>\n",
    "        <head>\n",
    "        <title>Imad Pasha</title>\n",
    "        <link rel=\"stylesheet\" href=\"styles.css\">\n",
    "        </head>\n",
    "        <body style>\n",
    "        <div id=\"wrap\">\n",
    "        <img src='git.png' height=\"300\" title=\"I like XKCD comics\">\n",
    "        <h1>Imad Pasha</h1>\n",
    "        <h3>Undergraduate Researcher | University of California, Berkeley</h3>\n",
    "        <p>I like space.</p>\n",
    "        <hr>\n",
    "        <h2>Links</h2>\n",
    "        <p><a href=\"cv.pdf\">My Resume/CV</a></p>\n",
    "        <p><a href=\"blah\">Publications</a></p> \n",
    "        <p><a href=\"http://prappleizer.github.io\" target=\"_blank\">Python Resources (including my textbook)</a></p>\n",
    "\n",
    "        <hr>\n",
    "        <h2> Research </h2>\n",
    "\n",
    "        </div>\n",
    "        </body>\n",
    "        </html>"
   ]
  },
  {
   "cell_type": "markdown",
   "metadata": {
    "slideshow": {
     "slide_type": "fragment"
    }
   },
   "source": [
    "<a href=\"index6.html\">Let's take a look at the final site</a>"
   ]
  }
 ],
 "metadata": {
  "anaconda-cloud": {},
  "celltoolbar": "Slideshow",
  "kernelspec": {
   "display_name": "Python [conda env:pydecal]",
   "language": "python",
   "name": "conda-env-pydecal-py"
  },
  "language_info": {
   "codemirror_mode": {
    "name": "ipython",
    "version": 3
   },
   "file_extension": ".py",
   "mimetype": "text/x-python",
   "name": "python",
   "nbconvert_exporter": "python",
   "pygments_lexer": "ipython3",
   "version": "3.5.2"
  }
 },
 "nbformat": 4,
 "nbformat_minor": 2
}
