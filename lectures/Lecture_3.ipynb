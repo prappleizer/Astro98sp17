{
 "cells": [
  {
   "cell_type": "markdown",
   "metadata": {
    "slideshow": {
     "slide_type": "slide"
    }
   },
   "source": [
    "# http://tinyurl.com/a98s17lec99"
   ]
  },
  {
   "cell_type": "code",
   "execution_count": 5,
   "metadata": {
    "collapsed": false,
    "slideshow": {
     "slide_type": "skip"
    }
   },
   "outputs": [],
   "source": [
    "from IPython.display import Image\n",
    "from IPython.core.display import HTML \n",
    "x  = Image(url= \"http://math.hws.edu/javanotes/c3/if-else-flow-control.png\")"
   ]
  },
  {
   "cell_type": "markdown",
   "metadata": {
    "nbpresent": {
     "id": "dc190614-38ee-428a-aebe-2988c605563f"
    },
    "slideshow": {
     "slide_type": "slide"
    }
   },
   "source": [
    "# Week 3: Conditionals, Loops, and Functions"
   ]
  },
  {
   "cell_type": "markdown",
   "metadata": {
    "nbpresent": {
     "id": "4917a115-08bc-4b55-9d26-4f8e1d17b519"
    },
    "slideshow": {
     "slide_type": "slide"
    }
   },
   "source": [
    "## Conditionals"
   ]
  },
  {
   "cell_type": "markdown",
   "metadata": {
    "nbpresent": {
     "id": "f2b747f5-17df-4b9e-8160-500ff85129d5"
    },
    "slideshow": {
     "slide_type": "fragment"
    }
   },
   "source": [
    "- Conditionals allow us to set off portions of code that only run when a certain condition is met. In essence, it allows us to introduce a \"fork\" in our code through which we can control what happens in various situations (that's why loops and conditionals are often referred to as part of \"control flow\"). \n",
    "\n",
    "- The primary way of introducing conditionals into code is using an \"if statement\""
   ]
  },
  {
   "cell_type": "code",
   "execution_count": 6,
   "metadata": {
    "collapsed": false,
    "slideshow": {
     "slide_type": "subslide"
    }
   },
   "outputs": [
    {
     "data": {
      "text/html": [
       "<img src=\"http://math.hws.edu/javanotes/c3/if-else-flow-control.png\"/>"
      ],
      "text/plain": [
       "<IPython.core.display.Image object>"
      ]
     },
     "execution_count": 6,
     "metadata": {},
     "output_type": "execute_result"
    }
   ],
   "source": [
    "x"
   ]
  },
  {
   "cell_type": "markdown",
   "metadata": {
    "slideshow": {
     "slide_type": "subslide"
    }
   },
   "source": [
    "## Flipping a Coin"
   ]
  },
  {
   "cell_type": "code",
   "execution_count": 8,
   "metadata": {
    "collapsed": false,
    "nbpresent": {
     "id": "3f360326-d15f-4f70-9684-d770b82535c4"
    },
    "slideshow": {
     "slide_type": "fragment"
    }
   },
   "outputs": [
    {
     "name": "stdout",
     "output_type": "stream",
     "text": [
      "You're a loser and nobody likes you.\n"
     ]
    }
   ],
   "source": [
    "import numpy as np\n",
    "from random import randint\n",
    "random_number = randint(0,100)\n",
    "if random_number > 50:\n",
    "    print(\"Since the number was %s, You win the coin toss\" %(random_number))\n",
    "else: \n",
    "    print(\"You're a loser and nobody likes you.\")\n",
    "    "
   ]
  },
  {
   "cell_type": "markdown",
   "metadata": {
    "nbpresent": {
     "id": "939c91b6-97a4-400f-a3d6-d63847532b90"
    },
    "slideshow": {
     "slide_type": "fragment"
    }
   },
   "source": [
    "Damn. Guess I'm a loser. You can run the code block above over and over to see that you'll either win or lose some of the rounds. Also, we've included a little formatting tip for getting the values of variables into print statements. Within a string, use %s everytime you want a variable's value, and then after the string do %(var1, var2, ...) in the order they appear in your string.\n",
    "\n",
    "If statement syntax: To put in words what happened above, the syntax is the word \"if\" followed by the condition and a colon, followed by a \"block\" of code (one to multiple lines) that are indented one tab with respect to the if statement. Tabbing back out lets you add more ifs/elifs/else statements. For example, lets say we had a three sided dice for the example below:"
   ]
  },
  {
   "cell_type": "markdown",
   "metadata": {
    "slideshow": {
     "slide_type": "slide"
    }
   },
   "source": [
    "## Improving My Chances with a 3 sided die over a 2 sided coin"
   ]
  },
  {
   "cell_type": "code",
   "execution_count": 10,
   "metadata": {
    "collapsed": false,
    "nbpresent": {
     "id": "36a1274b-ec77-4a80-a9e8-e0291fe68038"
    },
    "slideshow": {
     "slide_type": "fragment"
    }
   },
   "outputs": [
    {
     "name": "stdout",
     "output_type": "stream",
     "text": [
      "You're a loser and nobody likes you.\n"
     ]
    }
   ],
   "source": [
    "import numpy as np\n",
    "from random import randint\n",
    "random_number = randint(0,100)\n",
    "if random_number <33:\n",
    "    print(\"Since the number was %s, You win the dice throw\" %(random_number))\n",
    "elif (random_number>=33) and (random_number<66): \n",
    "    print(\"You're a loser and nobody likes you.\") \n",
    "else:\n",
    "    print(\"You're still a loser, and nobody likes you..\")\n",
    "    "
   ]
  },
  {
   "cell_type": "markdown",
   "metadata": {
    "nbpresent": {
     "id": "2fa9ee4e-8a84-4177-a2a2-ca595deee167"
    },
    "slideshow": {
     "slide_type": "fragment"
    }
   },
   "source": [
    "Damn, still a loser. As we can see, there are now three conditions that could be met. We could've used and elif for the last statement as well and specified between 66-100, but since it's a closed system it was faster to just write an else. Note above you can see the syntax for applying multiple conditions in one line (and could be replaced with or based on your needs). \n",
    "\n",
    "If statements can be used for small chunks of code within a larger code, as above, or you could create entire codes (hundreds of lines) that run in alternate conditions. "
   ]
  },
  {
   "cell_type": "markdown",
   "metadata": {
    "nbpresent": {
     "id": "bb3835ef-a767-471f-a10e-77b6a76f5caa"
    },
    "slideshow": {
     "slide_type": "slide"
    }
   },
   "source": [
    "## Loops"
   ]
  },
  {
   "cell_type": "markdown",
   "metadata": {
    "nbpresent": {
     "id": "2fa44e4d-7a71-4d28-aa09-6221fdf38091"
    },
    "slideshow": {
     "slide_type": "subslide"
    }
   },
   "source": [
    "- Loops allow us to set off blocks of code to be run over and over a set number of times. This seems kind of dumb at first, but with the use of **iterators** we can have the block run slightly differently each time, and this becomes incredibly useful. \n",
    "\n",
    "- There are two main kinds of loops: While loops and For loops. While loops simply repeat a block of code over and over so long as a certain condition is true. (see below). \n",
    "\n",
    "- For loops allow us to choose a variable (usually a list or array) to iterate over, plugging in values from the list each time the loop is run. "
   ]
  },
  {
   "cell_type": "markdown",
   "metadata": {
    "nbpresent": {
     "id": "839fa58e-dbd4-4acd-949f-c0af4c761090"
    },
    "slideshow": {
     "slide_type": "slide"
    }
   },
   "source": [
    "## While Loops"
   ]
  },
  {
   "cell_type": "markdown",
   "metadata": {
    "slideshow": {
     "slide_type": "fragment"
    }
   },
   "source": [
    "Lets start with a while loop. I've gotten sick and tired of losing my dumb dice game above, so I want to write a block that will keep playing it over and over for me automatically until I win. I've entered the while conditional below, fill in the rest of the code to make this happen! (You can copy and paste the block from example one but you will need to adjust it slightly by adding a condition_win variable somewhere, and changing it to anything other than 0 if I do win). Make sure the while loop is indented! So if you copy and paste from above, also hit tab once to indent everything.\n",
    "\n",
    "**Warning: When you make a while loop, make sure your code has a condition that can change somewhere inside the loop to make the condition driving the while loop false, otherwise your code will hang and run forever!**"
   ]
  },
  {
   "cell_type": "code",
   "execution_count": null,
   "metadata": {
    "collapsed": false,
    "nbpresent": {
     "id": "af22a087-2ab9-4ab1-9cb3-b815e31eef03"
    },
    "slideshow": {
     "slide_type": "subslide"
    }
   },
   "outputs": [],
   "source": [
    "import numpy as np\n",
    "from random import randint\n",
    "#need to set condition_win\n",
    "while condition_win == 0:\n",
    "    #Then what?"
   ]
  },
  {
   "cell_type": "markdown",
   "metadata": {
    "nbpresent": {
     "id": "ff3718e5-4a89-435f-8821-c8a07c77a334"
    },
    "slideshow": {
     "slide_type": "subslide"
    }
   },
   "source": [
    "That was a pretty dumb game. We didn't even have to do anything!\n",
    "\n",
    "- Notice an additional new piece of syntax. Since a single \"=\" sign is reserved for setting variables equal to things, if you want a conditional to check if a is equal to b, you use the double equals \"==\". "
   ]
  },
  {
   "cell_type": "markdown",
   "metadata": {
    "slideshow": {
     "slide_type": "slide"
    }
   },
   "source": [
    "## For Loops"
   ]
  },
  {
   "cell_type": "markdown",
   "metadata": {
    "slideshow": {
     "slide_type": "fragment"
    }
   },
   "source": [
    "Moving on to for loops. For loops are slightly more difficult to understand conceptually, but you will use them a lot more often than while loops. \n",
    "\n",
    "- For loops are iterative loops, that is, you introduce a new variable called an iterator, and that is what changes each time the code is run. \n",
    "\n",
    "- You can use a for loop as a while loop in a sense, the example below shows a for loop and while loop doing the same thing."
   ]
  },
  {
   "cell_type": "code",
   "execution_count": 11,
   "metadata": {
    "collapsed": false,
    "nbpresent": {
     "id": "8298a10c-a35e-4095-90f7-fd1c3fde6754"
    },
    "slideshow": {
     "slide_type": "subslide"
    }
   },
   "outputs": [
    {
     "name": "stdout",
     "output_type": "stream",
     "text": [
      "counter is now on:  0\n",
      "counter is now on:  1\n",
      "counter is now on:  2\n",
      "counter is now on:  3\n",
      "counter is now on:  4\n",
      "counter is now on:  5\n",
      "\n",
      "counter is now on:  0\n",
      "counter is now on:  1\n",
      "counter is now on:  2\n",
      "counter is now on:  3\n",
      "counter is now on:  4\n",
      "counter is now on:  5\n"
     ]
    }
   ],
   "source": [
    "##################\n",
    "counter=0\n",
    "while counter<=5:\n",
    "    print(\"counter is now on: \",counter)\n",
    "    counter += 1\n",
    "##################\n",
    "print()\n",
    "for i in range(6):\n",
    "    print(\"counter is now on: \",i)"
   ]
  },
  {
   "cell_type": "markdown",
   "metadata": {
    "nbpresent": {
     "id": "7256352e-62f2-46ed-b6d5-ccf96176bbe7"
    },
    "slideshow": {
     "slide_type": "subslide"
    }
   },
   "source": [
    "Notice that the while loop took a bit more work, because it doesn't iterate on its own. I made my own counter, defaulted it to 0, and forcibly increased it each time the while loop ran. The for loop does this by itself. I chose an iterator variable \"i\" and is choosing sequencial \"i\"s from the list produced by range(6) [0,1,2,3,4,5].\n",
    "\n",
    "Each time the loop runs, its choosing the next element from range(5) and plugging it in for \"i\" in the code. A few notes:\n",
    "\n",
    "- We can choose whatever iterator variable name we want. I couldve said \" for element in range(5)\" all that matters is that it's consistent in the loop. Also, once the loop is finished, that variable (i, or elements, or whatever) is wiped from existence. It's only used for controlling the iteration for the loop. \"i\", \"j\", \"k\" are common iterators, especially in a nested loop structure like the one below:"
   ]
  },
  {
   "cell_type": "code",
   "execution_count": null,
   "metadata": {
    "collapsed": false,
    "nbpresent": {
     "id": "ecffcb64-053d-4fb1-ba69-a00292025bb7"
    },
    "slideshow": {
     "slide_type": "subslide"
    }
   },
   "outputs": [],
   "source": [
    "for i in range(3):\n",
    "    for j in range(2):\n",
    "        for k in range(1):\n",
    "            print i+j+k"
   ]
  },
  {
   "cell_type": "markdown",
   "metadata": {
    "nbpresent": {
     "id": "69d81ae9-489e-46d8-bbe1-44e663b40c8e"
    },
    "slideshow": {
     "slide_type": "fragment"
    }
   },
   "source": [
    "Spend some time looking at the example above and try to make sure you understand what these loops are doing. The internal loops (most indented) run first, i.e., it will pick 1 i, then 1 j, then run through all k's, then pick the same i, but a new j, and run through all k's, till the j's are done, then pick the next i, etc. Try adjusting the ranges above to make it output 0,1,2,3 using three iterators. \n",
    "\n",
    "\n",
    "Lets test out the random integer calculator from above, and see if it really is replicating a random 50/50 chance (I feel like it's been making me loose far too often). Write a for loop below that will run the block of code 1000 times, and each time, within the if-statements append something (it doesnt actually matter what, I just used the number 1) to two empty arrays defined outside the for loop: win = [] and lose = []. Then compare the lengths of those arrays after the loop has completed and see if over 1000 samples, you get a 50/50 distribution between winning and loosing. **Hint: You don't need to call your iterator inside the loop for this one.**"
   ]
  },
  {
   "cell_type": "code",
   "execution_count": null,
   "metadata": {
    "collapsed": false,
    "nbpresent": {
     "id": "038a49c8-a979-4311-b30c-adbc89b1b5ab"
    },
    "slideshow": {
     "slide_type": "subslide"
    }
   },
   "outputs": [],
   "source": [
    "for i in range(1000):\n",
    "    "
   ]
  },
  {
   "cell_type": "markdown",
   "metadata": {
    "nbpresent": {
     "id": "bbab962a-3e2b-410b-ad05-35acbd25129a"
    },
    "slideshow": {
     "slide_type": "slide"
    }
   },
   "source": [
    "## Functions"
   ]
  },
  {
   "cell_type": "markdown",
   "metadata": {
    "nbpresent": {
     "id": "ebb2be98-11f2-4c52-9f69-90e045b1dbb6"
    },
    "slideshow": {
     "slide_type": "fragment"
    }
   },
   "source": [
    "- So far, the functions we have used are built into python or part of a package (e.g., numpy, matplotlib). Python also allows you to define your own functions\n",
    "- You can specify which arguments your function takes, and what it returns\n",
    "- Unlike a script (just code in a file), your function doesn’t “run” when your code is run; instead you have to actively call your function (and if your function returns something, you have to set a variable). "
   ]
  },
  {
   "cell_type": "code",
   "execution_count": null,
   "metadata": {
    "collapsed": false,
    "nbpresent": {
     "id": "4d13351d-47e7-46f6-9c07-d61a5f3bddaa"
    },
    "slideshow": {
     "slide_type": "slide"
    }
   },
   "outputs": [],
   "source": [
    "def play_game():\n",
    "    random_number = randint(0,100)\n",
    "    if random_number > 50:\n",
    "        print \"Since the number was %s, You win the coin toss\" %(random_number)\n",
    "    else: \n",
    "        print \"You're a loser and nobody likes you.\" \n"
   ]
  },
  {
   "cell_type": "markdown",
   "metadata": {
    "nbpresent": {
     "id": "9658bc20-a14d-40d6-bd75-d267a961970c"
    },
    "slideshow": {
     "slide_type": "fragment"
    }
   },
   "source": [
    "Notice that if you run the code block above (do it) nothing happens. None the less, your function is now in python. In the block below, run play_game() to run our game. "
   ]
  },
  {
   "cell_type": "code",
   "execution_count": null,
   "metadata": {
    "collapsed": true,
    "slideshow": {
     "slide_type": "subslide"
    }
   },
   "outputs": [],
   "source": [
    "#run game here"
   ]
  },
  {
   "cell_type": "markdown",
   "metadata": {
    "nbpresent": {
     "id": "91a81ecd-3551-48d4-a3e2-60b95ba2e533"
    },
    "slideshow": {
     "slide_type": "slide"
    }
   },
   "source": [
    "## User Input\n",
    "\n",
    "As of right now, we've created a game that doesn't require any input from the user in order to run. That's why the parenthetical argument for the play_game() function doesn't have anything in it. Rewrite the play_game function below, but this time have the user run the game making a choice between heads and tails, and then compare their choice to the outcome of the toss before informing them if they won. I.e., I want to run play_game('heads') and have it tell me if I won or lost. Also, notice our function doesn't currently return anything. Below each print statement in the while loop, add a return statement that returns \"win\" for the first if and \"loss\" for the second. "
   ]
  },
  {
   "cell_type": "code",
   "execution_count": null,
   "metadata": {
    "collapsed": false,
    "slideshow": {
     "slide_type": "fragment"
    }
   },
   "outputs": [],
   "source": [
    "#redefine the game to take an input and tell the user if they've won\n",
    "def play_game(side):\n",
    "    random_number = randint(0,100)\n",
    "    if (side=='Heads') and (random_number<50):\n",
    "        print('You won the toss!')\n",
    "    ...\n",
    "    ...\n",
    "    ...\n",
    "    "
   ]
  },
  {
   "cell_type": "markdown",
   "metadata": {
    "nbpresent": {
     "id": "a8ae6418-073f-4ecb-8192-326e43cb2ee7"
    },
    "slideshow": {
     "slide_type": "slide"
    }
   },
   "source": [
    "## Notes\n",
    "- It is easy to make functions to do small things, but often times it becomes really helpful to use them on big chunks of your code (like a pipeline). \n",
    "\n",
    "- Say your job was to pull in some images, do some corrections, do an analysis, and then plot the output. It would be wise to write separate functions to load images/perform corrections, do the analysis, and then plot nicely. \n",
    "\n",
    "- When you put all of your code into \"chunks\" that are functions, you have to pipe the outputs of previous functions into the input of new ones. This seems like a lot of extra work, but there are some major advantages. For example, say you have a code of several thousand lines, and something goes to shit. If everything is just coded linearly, it could take you days to find the bug. On the other hand, if the code is in functions, you can test each function to make sure it works, and if all the functions work individually, you can start running your data through more and more of them till the error occurs, thus allowing you to focus in on it quickly. "
   ]
  },
  {
   "cell_type": "markdown",
   "metadata": {
    "slideshow": {
     "slide_type": "subslide"
    }
   },
   "source": [
    "## More Notes\n",
    "\n",
    "Now that we've taught you how to loop, we'll mention the caveat that once you start working with higher order data, large data sets, matrix operations, etc; the essential whole goal of your programs will be to **remove** as many loops from your data as possible. \n",
    "\n",
    "Don't worry about that for now.... "
   ]
  }
 ],
 "metadata": {
  "anaconda-cloud": {},
  "celltoolbar": "Slideshow",
  "kernelspec": {
   "display_name": "Python [default]",
   "language": "python",
   "name": "python3"
  },
  "language_info": {
   "codemirror_mode": {
    "name": "ipython",
    "version": 3
   },
   "file_extension": ".py",
   "mimetype": "text/x-python",
   "name": "python",
   "nbconvert_exporter": "python",
   "pygments_lexer": "ipython3",
   "version": "3.5.2"
  },
  "nbpresent": {
   "slides": {
    "156ba355-3198-4597-93e7-3392c1321f3f": {
     "id": "156ba355-3198-4597-93e7-3392c1321f3f",
     "prev": "3d518a8f-7880-41b4-893f-11521c592d70",
     "regions": {
      "289cdad6-48f2-4634-a315-19412b5bbbb6": {
       "attrs": {
        "height": 0.8,
        "width": 0.8,
        "x": 0.1,
        "y": 0.1
       },
       "content": {
        "cell": "4d13351d-47e7-46f6-9c07-d61a5f3bddaa",
        "part": "whole"
       },
       "id": "289cdad6-48f2-4634-a315-19412b5bbbb6"
      }
     }
    },
    "1b8c3581-2948-4275-b366-72b9848f61d6": {
     "id": "1b8c3581-2948-4275-b366-72b9848f61d6",
     "prev": "b97bd763-16da-465b-a73c-4e26fa0996a0",
     "regions": {
      "ee29c403-0a20-436f-8767-8c491bcccb37": {
       "attrs": {
        "height": 0.8,
        "width": 0.8,
        "x": 0.1,
        "y": 0.1
       },
       "content": {
        "cell": "c0846e0a-83d2-4775-ad8e-f83a700d0127",
        "part": "whole"
       },
       "id": "ee29c403-0a20-436f-8767-8c491bcccb37"
      }
     }
    },
    "3d518a8f-7880-41b4-893f-11521c592d70": {
     "id": "3d518a8f-7880-41b4-893f-11521c592d70",
     "prev": "762a8ccc-96bd-4464-94c3-b689bc69b75e",
     "regions": {
      "1a2c2e62-b428-42bd-96f8-8ec1b7dc4431": {
       "attrs": {
        "height": 0.8,
        "width": 0.8,
        "x": 0.1,
        "y": 0.1
       },
       "content": {
        "cell": "ebb2be98-11f2-4c52-9f69-90e045b1dbb6",
        "part": "whole"
       },
       "id": "1a2c2e62-b428-42bd-96f8-8ec1b7dc4431"
      }
     }
    },
    "42ce8eb9-29d6-4b1c-8220-30bf268ab061": {
     "id": "42ce8eb9-29d6-4b1c-8220-30bf268ab061",
     "prev": "b094d1b0-9c82-4099-801b-116038b4a7e3",
     "regions": {
      "9baa51b7-6cf3-408d-91a5-63160a48946e": {
       "attrs": {
        "height": 0.8,
        "width": 0.8,
        "x": 0.1,
        "y": 0.1
       },
       "content": {
        "cell": "91a81ecd-3551-48d4-a3e2-60b95ba2e533",
        "part": "whole"
       },
       "id": "9baa51b7-6cf3-408d-91a5-63160a48946e"
      }
     }
    },
    "50d99273-0894-43ec-84e8-a2f233de5e38": {
     "id": "50d99273-0894-43ec-84e8-a2f233de5e38",
     "prev": "8fd8a81f-b11f-48d2-a0c3-3d1f1dc33fd0",
     "regions": {
      "a3ba8146-2672-41a8-8eda-0057c2405d43": {
       "attrs": {
        "height": 0.8,
        "width": 0.8,
        "x": 0.1,
        "y": 0.1
       },
       "content": {
        "cell": "0d50133d-0ef9-49ae-9621-9683f558e917",
        "part": "whole"
       },
       "id": "a3ba8146-2672-41a8-8eda-0057c2405d43"
      }
     }
    },
    "556d8827-17c2-4609-abe7-6554c501f697": {
     "id": "556d8827-17c2-4609-abe7-6554c501f697",
     "prev": "1b8c3581-2948-4275-b366-72b9848f61d6",
     "regions": {
      "7546361c-88cf-40d3-9e3a-12b6750ac5fd": {
       "attrs": {
        "height": 0.8,
        "width": 0.8,
        "x": 0.1,
        "y": 0.1
       },
       "content": {
        "cell": "7b979b16-0130-45b7-91e7-7350ab5b8e60",
        "part": "whole"
       },
       "id": "7546361c-88cf-40d3-9e3a-12b6750ac5fd"
      }
     }
    },
    "71e68c08-b76f-4f7a-90be-766800b18d1d": {
     "id": "71e68c08-b76f-4f7a-90be-766800b18d1d",
     "prev": "fb327292-3a3d-4cc6-a6db-4104dac91180",
     "regions": {
      "8668928c-9294-4331-a9fd-33cc9d5189ef": {
       "attrs": {
        "height": 0.8,
        "width": 0.8,
        "x": 0.1,
        "y": 0.1
       },
       "content": {
        "cell": "4917a115-08bc-4b55-9d26-4f8e1d17b519",
        "part": "whole"
       },
       "id": "8668928c-9294-4331-a9fd-33cc9d5189ef"
      },
      "fc85a62d-9a51-4ccd-a7d7-1c7b935b7f24": {
       "attrs": {
        "height": 0.4,
        "width": 0.8,
        "x": 0.1,
        "y": 0.5
       },
       "content": {
        "cell": "f2b747f5-17df-4b9e-8160-500ff85129d5",
        "part": "whole"
       },
       "id": "fc85a62d-9a51-4ccd-a7d7-1c7b935b7f24"
      }
     }
    },
    "762a8ccc-96bd-4464-94c3-b689bc69b75e": {
     "id": "762a8ccc-96bd-4464-94c3-b689bc69b75e",
     "prev": "f18d3021-77f2-40bc-8648-c3bf4d1241d4",
     "regions": {
      "6dd14f23-5557-4188-9cbe-8e1717c77403": {
       "attrs": {
        "height": 0.8,
        "width": 0.8,
        "x": 0.1,
        "y": 0.1
       },
       "content": {
        "cell": "bbab962a-3e2b-410b-ad05-35acbd25129a",
        "part": "whole"
       },
       "id": "6dd14f23-5557-4188-9cbe-8e1717c77403"
      }
     }
    },
    "7c32e3f5-dca4-4dca-a4ec-a24db13374a8": {
     "id": "7c32e3f5-dca4-4dca-a4ec-a24db13374a8",
     "prev": "156ba355-3198-4597-93e7-3392c1321f3f",
     "regions": {
      "4d165d7f-6fd3-4514-96b3-ac8a822d5632": {
       "attrs": {
        "height": 0.8,
        "width": 0.8,
        "x": 0.1,
        "y": 0.1
       },
       "content": {
        "cell": "9658bc20-a14d-40d6-bd75-d267a961970c",
        "part": "whole"
       },
       "id": "4d165d7f-6fd3-4514-96b3-ac8a822d5632"
      }
     }
    },
    "8fd8a81f-b11f-48d2-a0c3-3d1f1dc33fd0": {
     "id": "8fd8a81f-b11f-48d2-a0c3-3d1f1dc33fd0",
     "prev": "42ce8eb9-29d6-4b1c-8220-30bf268ab061",
     "regions": {
      "97d4004a-ac82-4a54-860e-15471e0a0546": {
       "attrs": {
        "height": 0.8,
        "width": 0.8,
        "x": 0.1,
        "y": 0.1
       },
       "content": {
        "cell": "a8ae6418-073f-4ecb-8192-326e43cb2ee7",
        "part": "whole"
       },
       "id": "97d4004a-ac82-4a54-860e-15471e0a0546"
      }
     }
    },
    "9cc14e53-b0b8-4d03-b2ea-37729e31c633": {
     "id": "9cc14e53-b0b8-4d03-b2ea-37729e31c633",
     "prev": "a79a3b41-e9a9-4317-a185-6468502bd3da",
     "regions": {
      "8e019ae4-47d4-4b4b-88ce-ab1579c4f3df": {
       "attrs": {
        "height": 0.8,
        "width": 0.8,
        "x": 0.1,
        "y": 0.1
       },
       "content": {
        "cell": "bb3835ef-a767-471f-a10e-77b6a76f5caa",
        "part": "whole"
       },
       "id": "8e019ae4-47d4-4b4b-88ce-ab1579c4f3df"
      }
     }
    },
    "a79a3b41-e9a9-4317-a185-6468502bd3da": {
     "id": "a79a3b41-e9a9-4317-a185-6468502bd3da",
     "prev": "c2d5f44e-b021-48ce-9d9f-33b875b230d7",
     "regions": {
      "6013f3c4-678b-4ffd-bd23-f5c2b8adf3a8": {
       "attrs": {
        "height": 0.8,
        "width": 0.8,
        "x": 0.1,
        "y": 0.1
       },
       "content": {
        "cell": "36a1274b-ec77-4a80-a9e8-e0291fe68038",
        "part": "whole"
       },
       "id": "6013f3c4-678b-4ffd-bd23-f5c2b8adf3a8"
      },
      "a9cbaab0-2aea-4c0b-9e28-706f4475423a": {
       "attrs": {
        "height": 0.4,
        "width": 0.8,
        "x": 0.1,
        "y": 0.5
       },
       "content": {
        "cell": "2fa9ee4e-8a84-4177-a2a2-ca595deee167",
        "part": "whole"
       },
       "id": "a9cbaab0-2aea-4c0b-9e28-706f4475423a"
      }
     }
    },
    "acca683f-10bd-4943-a374-7e674cf4095c": {
     "id": "acca683f-10bd-4943-a374-7e674cf4095c",
     "prev": "556d8827-17c2-4609-abe7-6554c501f697",
     "regions": {
      "69db86fb-0c27-4d2a-b6bb-135a33ec4506": {
       "attrs": {
        "height": 0.8,
        "width": 0.8,
        "x": 0.1,
        "y": 0.1
       },
       "content": {
        "cell": "ecffcb64-053d-4fb1-ba69-a00292025bb7",
        "part": "whole"
       },
       "id": "69db86fb-0c27-4d2a-b6bb-135a33ec4506"
      }
     }
    },
    "b094d1b0-9c82-4099-801b-116038b4a7e3": {
     "id": "b094d1b0-9c82-4099-801b-116038b4a7e3",
     "prev": "7c32e3f5-dca4-4dca-a4ec-a24db13374a8",
     "regions": {
      "1a1d3b91-dab1-4f92-922f-656aa774c133": {
       "attrs": {
        "height": 0.8,
        "width": 0.8,
        "x": 0.1,
        "y": 0.1
       },
       "content": {
        "cell": "1b0ad779-b0a5-4d9b-9a09-ef0d376a1da4",
        "part": "whole"
       },
       "id": "1a1d3b91-dab1-4f92-922f-656aa774c133"
      }
     }
    },
    "b70b87f0-f5ab-4b0a-82ee-54f8faaa5092": {
     "id": "b70b87f0-f5ab-4b0a-82ee-54f8faaa5092",
     "prev": "f40b0257-9c9c-4974-8d42-fa08fecce1aa",
     "regions": {
      "fd71a455-9384-4a45-9e71-6480aaef534c": {
       "attrs": {
        "height": 0.8,
        "width": 0.8,
        "x": 0.1,
        "y": 0.1
       },
       "content": {
        "cell": "ff3718e5-4a89-435f-8821-c8a07c77a334",
        "part": "whole"
       },
       "id": "fd71a455-9384-4a45-9e71-6480aaef534c"
      }
     }
    },
    "b97bd763-16da-465b-a73c-4e26fa0996a0": {
     "id": "b97bd763-16da-465b-a73c-4e26fa0996a0",
     "prev": "e60af5d5-e0c7-4679-9b61-6a791ed19d72",
     "regions": {
      "c8dc0d9f-7763-497d-b540-e8747343bd5f": {
       "attrs": {
        "height": 0.8,
        "width": 0.8,
        "x": 0.1,
        "y": 0.1
       },
       "content": {
        "cell": "7256352e-62f2-46ed-b6d5-ccf96176bbe7",
        "part": "whole"
       },
       "id": "c8dc0d9f-7763-497d-b540-e8747343bd5f"
      }
     }
    },
    "c2d5f44e-b021-48ce-9d9f-33b875b230d7": {
     "id": "c2d5f44e-b021-48ce-9d9f-33b875b230d7",
     "prev": "71e68c08-b76f-4f7a-90be-766800b18d1d",
     "regions": {
      "7cc67cbf-b521-4ea2-8b7d-5cd9728cdb8a": {
       "attrs": {
        "height": 0.8,
        "width": 0.8,
        "x": 0.1,
        "y": 0.1
       },
       "content": {
        "cell": "3f360326-d15f-4f70-9684-d770b82535c4",
        "part": "whole"
       },
       "id": "7cc67cbf-b521-4ea2-8b7d-5cd9728cdb8a"
      },
      "80f5d9fc-2948-4fbf-b45c-5f8fbc345277": {
       "attrs": {
        "height": 0.4,
        "width": 0.8,
        "x": 0.1,
        "y": 0.5
       },
       "content": {
        "cell": "939c91b6-97a4-400f-a3d6-d63847532b90",
        "part": "whole"
       },
       "id": "80f5d9fc-2948-4fbf-b45c-5f8fbc345277"
      }
     }
    },
    "e60af5d5-e0c7-4679-9b61-6a791ed19d72": {
     "id": "e60af5d5-e0c7-4679-9b61-6a791ed19d72",
     "prev": "b70b87f0-f5ab-4b0a-82ee-54f8faaa5092",
     "regions": {
      "2a90bc79-646d-44ff-93f5-a2c552a110e1": {
       "attrs": {
        "height": 0.8,
        "width": 0.8,
        "x": 0.1,
        "y": 0.1
       },
       "content": {
        "cell": "8298a10c-a35e-4095-90f7-fd1c3fde6754",
        "part": "whole"
       },
       "id": "2a90bc79-646d-44ff-93f5-a2c552a110e1"
      }
     }
    },
    "eb87d484-ed4d-4268-9f8f-8dd007b4ece3": {
     "id": "eb87d484-ed4d-4268-9f8f-8dd007b4ece3",
     "prev": "acca683f-10bd-4943-a374-7e674cf4095c",
     "regions": {
      "47f5c17f-7950-4f7d-be73-63e2831a3978": {
       "attrs": {
        "height": 0.8,
        "width": 0.8,
        "x": 0.1,
        "y": 0.1
       },
       "content": {
        "cell": "69d81ae9-489e-46d8-bbe1-44e663b40c8e",
        "part": "whole"
       },
       "id": "47f5c17f-7950-4f7d-be73-63e2831a3978"
      }
     }
    },
    "f18d3021-77f2-40bc-8648-c3bf4d1241d4": {
     "id": "f18d3021-77f2-40bc-8648-c3bf4d1241d4",
     "prev": "eb87d484-ed4d-4268-9f8f-8dd007b4ece3",
     "regions": {
      "32931e12-08bc-45f8-9c4e-85c9c99a6948": {
       "attrs": {
        "height": 0.8,
        "width": 0.8,
        "x": 0.1,
        "y": 0.1
       },
       "content": {
        "cell": "038a49c8-a979-4311-b30c-adbc89b1b5ab",
        "part": "whole"
       },
       "id": "32931e12-08bc-45f8-9c4e-85c9c99a6948"
      }
     }
    },
    "f2cb396a-707c-4b33-bc09-b0ad00f72448": {
     "id": "f2cb396a-707c-4b33-bc09-b0ad00f72448",
     "prev": "9cc14e53-b0b8-4d03-b2ea-37729e31c633",
     "regions": {
      "620d4987-d22a-4d84-8775-828afac09ed1": {
       "attrs": {
        "height": 0.4,
        "width": 0.8,
        "x": 0.1,
        "y": 0.5
       },
       "content": {
        "cell": "af22a087-2ab9-4ab1-9cb3-b815e31eef03",
        "part": "whole"
       },
       "id": "620d4987-d22a-4d84-8775-828afac09ed1"
      },
      "ef1a0d40-ff53-4df3-906c-bcb940a329ff": {
       "attrs": {
        "height": 0.8,
        "width": 0.8,
        "x": 0.1,
        "y": 0.1
       },
       "content": {
        "cell": "2fa44e4d-7a71-4d28-aa09-6221fdf38091",
        "part": "whole"
       },
       "id": "ef1a0d40-ff53-4df3-906c-bcb940a329ff"
      }
     }
    },
    "f40b0257-9c9c-4974-8d42-fa08fecce1aa": {
     "id": "f40b0257-9c9c-4974-8d42-fa08fecce1aa",
     "prev": "f2cb396a-707c-4b33-bc09-b0ad00f72448",
     "regions": {
      "cddab03b-65ea-42b5-ab4f-6990373e817e": {
       "attrs": {
        "height": 0.8,
        "width": 0.8,
        "x": 0.1,
        "y": 0.1
       },
       "content": {
        "cell": "839fa58e-dbd4-4acd-949f-c0af4c761090",
        "part": "whole"
       },
       "id": "cddab03b-65ea-42b5-ab4f-6990373e817e"
      }
     }
    },
    "fb327292-3a3d-4cc6-a6db-4104dac91180": {
     "id": "fb327292-3a3d-4cc6-a6db-4104dac91180",
     "prev": null,
     "regions": {
      "6145db80-5e57-4739-9f11-9930d70e150c": {
       "attrs": {
        "height": 0.8,
        "width": 0.8,
        "x": 0.1,
        "y": 0.1
       },
       "content": {
        "cell": "dc190614-38ee-428a-aebe-2988c605563f",
        "part": "whole"
       },
       "id": "6145db80-5e57-4739-9f11-9930d70e150c"
      }
     }
    }
   },
   "themes": {
    "default": "7ef9e1b2-0548-482c-9a31-e10410cba033",
    "theme": {}
   }
  }
 },
 "nbformat": 4,
 "nbformat_minor": 0
}
