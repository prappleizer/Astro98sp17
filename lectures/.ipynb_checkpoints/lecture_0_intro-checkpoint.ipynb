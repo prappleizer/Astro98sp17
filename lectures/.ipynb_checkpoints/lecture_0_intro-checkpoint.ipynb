{
 "cells": [
  {
   "cell_type": "markdown",
   "metadata": {},
   "source": [
    "# Welcome to Astron 98/198 - Python for Astronomers"
   ]
  },
  {
   "cell_type": "markdown",
   "metadata": {},
   "source": [
    "## An Introduction to Scientific Computing and Data Analysis"
   ]
  },
  {
   "cell_type": "markdown",
   "metadata": {},
   "source": [
    "These notes are in what is known as an ipython notebook. Each cell is self contained, and can contain headings, markdown text (with latex symbol encoding), or runnable code. For example in the following block:"
   ]
  },
  {
   "cell_type": "code",
   "execution_count": 2,
   "metadata": {
    "collapsed": false
   },
   "outputs": [
    {
     "name": "stdout",
     "output_type": "stream",
     "text": [
      "hello Berkeley\n"
     ]
    }
   ],
   "source": [
    "print \"hello Berkeley\""
   ]
  },
  {
   "cell_type": "markdown",
   "metadata": {},
   "source": [
    "We see the canonical first command given to any language on first use. If you click on the block and then the play button at the top of the screen, the code will run and output the text. Try it now."
   ]
  },
  {
   "cell_type": "markdown",
   "metadata": {},
   "source": [
    "All code blocks, and even text/headings are editable. Try clicking into the code block above (code blocks are referenced by the \"In []:\" to the left which indicates the line of the code), and changing the word \"world\" to the word \"Berkeley\". Run the block again and it should update to reflect the change."
   ]
  },
  {
   "cell_type": "markdown",
   "metadata": {},
   "source": [
    "Before each lecture, download the ipython notebook file (.ipnb) from bcourses and follow along during the lectures. There will be blocks of code that are deliberately left unfinished (either fill in the blank or simply with commented instructions). We will ask you to experiment and fill in code during lectures for practice before showing the solutions. You can look back on your notes to aid you in completing the tutorials."
   ]
  },
  {
   "cell_type": "markdown",
   "metadata": {
    "collapsed": false
   },
   "source": [
    "## Course Logistics"
   ]
  },
  {
   "cell_type": "markdown",
   "metadata": {},
   "source": [
    " - Class meets TUESDAY THURSDAY from 6:30PM to 7:30PM\n",
    " - Tuesday is a lecture, and Thursday is an interactive tutorial section (today excluded)\n",
    " - "
   ]
  }
 ],
 "metadata": {
  "kernelspec": {
   "display_name": "Python 3",
   "language": "python",
   "name": "python3"
  },
  "language_info": {
   "codemirror_mode": {
    "name": "ipython",
    "version": 3
   },
   "file_extension": ".py",
   "mimetype": "text/x-python",
   "name": "python",
   "nbconvert_exporter": "python",
   "pygments_lexer": "ipython3",
   "version": "3.5.2"
  }
 },
 "nbformat": 4,
 "nbformat_minor": 0
}
