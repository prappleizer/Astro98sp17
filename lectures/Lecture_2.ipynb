{
 "cells": [
  {
   "cell_type": "markdown",
   "metadata": {},
   "source": [
    "# Python 98/198: Lecture 2 - Arrays, Packages, and Slicing"
   ]
  },
  {
   "cell_type": "markdown",
   "metadata": {},
   "source": [
    "# Attendance Link\n",
    "## http://tinyurl.com/sp17pylec2"
   ]
  },
  {
   "cell_type": "markdown",
   "metadata": {},
   "source": [
    "## Review of Week 1"
   ]
  },
  {
   "cell_type": "markdown",
   "metadata": {},
   "source": [
    "- UNIX is the OS/environment of many systems we use for programming.\n",
    "- We store files in directories, and we can use commands in the terminal to navigate around, make and delete directories, look at their contents, copy/move/delete files, etc.\n",
    "- We can use the ipython interpreter to do basic math, and to set variables equal to ints, floats, lists, etc. "
   ]
  },
  {
   "cell_type": "markdown",
   "metadata": {},
   "source": [
    "## Python Libraries"
   ]
  },
  {
   "cell_type": "markdown",
   "metadata": {},
   "source": [
    "- Python can do some basic math: +,-,x, / , x**y \n",
    "- To do anything more (sin(x), sqrt(x), plot y vs. x, etc.) we need to import some libraries.\n",
    "- Libraries are collections of functions which increase the usability of python dramatically. \n",
    "- There are libraries for almost every purpose- but a few are essential to almost any code:\n",
    "\n",
    "<b>Numpy</b>, or numerical python, is a library of functions so important it should almost just be built into python. In particular, it contains the \"Array\" datatype that is critical for working with data. \n",
    "\n",
    "<b>Matplotlib.pyplot</b> is a library of functions that allow us to visualize data by plotting it- \n",
    "everything from the most simple x,y dependences to extremely complex 3D datasets. Matplotlib has a huge, daunting set of features. It takes time to learn them, but you gain intuition as you need specific features for your plot and you look up how to implement them in the documentation.\n",
    "\n",
    "<b>Astropy</b> is a library of functions assembled by astronomers. In particular, we will be using the functionality for importing astronomical images."
   ]
  },
  {
   "cell_type": "markdown",
   "metadata": {},
   "source": [
    "### Importing Libraries"
   ]
  },
  {
   "cell_type": "markdown",
   "metadata": {},
   "source": [
    "These libraries have to be imported into our code, or into ipython, if we want to access the functions in them. We have already seen examples of how to import these libraries into our code- but here's an example:"
   ]
  },
  {
   "cell_type": "code",
   "execution_count": 2,
   "metadata": {
    "collapsed": false
   },
   "outputs": [],
   "source": [
    "import numpy as np\n",
    "import matplotlib.pyplot as plt\n",
    "\n",
    "\n",
    "\n",
    "#then to access them:\n",
    "x = np.arange(5)\n",
    "y = np.sin(x)\n",
    "plt.plot(x,y)\n",
    "plt.show()"
   ]
  },
  {
   "cell_type": "markdown",
   "metadata": {},
   "source": [
    "notice the structure is import library_name as our_name. We can choose to name them whatever we want. (if we simply say \"import numpy\" that also works, and the name it is given in your code is \"numpy\". \n",
    "\n",
    "To use a function within the library, we use dot notation and call the library first, then the name of the function (since sometimes you will have multiple libraries imported containing functions of the same name). \n",
    "\n",
    "For example, to create an array of sines of a predefined variable array “x” we could use np.sin(x)- that's where renaming libraries comes in handy. Typing \"plt.plot(x,y)\" is a lot shorter than \"matplotlib.pyplot.plot(x,y)\".\n"
   ]
  },
  {
   "cell_type": "markdown",
   "metadata": {},
   "source": [
    "## Return to Datatypes"
   ]
  },
  {
   "cell_type": "markdown",
   "metadata": {},
   "source": [
    "We have discussed that there are datatypes in python- that an integer has different rules as a float, for example\n",
    "\n",
    "Today we will be focusing on strings and lists and arrays, and how to index/slice through them (hint: you actually did this in your last tutorial). "
   ]
  },
  {
   "cell_type": "markdown",
   "metadata": {},
   "source": [
    "### Numpy Arrays"
   ]
  },
  {
   "cell_type": "markdown",
   "metadata": {},
   "source": [
    "Arrays are part of numpy. Unlike lists, there can only be one data-type within an array (if you enter an array with floats and ints, it converts them all to floats). \n",
    "\n",
    "Arrays are extremely useful. For example, math can be performed on them— if you divide an array by a number, every single element in the array is divided by that number, etc. \n",
    "\n",
    "To define a numpy array we would use np.array([1,2,3,…]) \n",
    "You can also take any list that has only numbers in it, and turn it into an array by typing np.array(list_name). Notice the syntax relation- to define an array from scratch, we insert the syntax of defining a list (the [ ]) into the np.array function. Thus for a variable that is a list, the variable name can just be inserted into the numpy function. \n",
    "\n",
    "There are other ways to initialize a numpy array of a special type. For example,\n",
    "\n",
    "- **np.zeros(num**) makes an array of zeros with a length num. \n",
    "- **np.ones(num)** has a similar functionality.\n",
    "- We can use **np.arange(start, stop, step)** which lets you create a list of numbers (ints) counting up or down based on a starting and ending position (keep in mind it will create the array from start up to but not including stop). \n",
    "- There is actually a similar function for lists, if you need to - **range(start, stop, step)**. You can also make multidimensional arrays and lists, which we will cover a bit later. \n",
    "- **np.linspace(start,stop,num)** will make an array from start to stop with num approximately equal subdivisions\n",
    "- **np.logspace(start,stop,num)** same thing but in log space\n",
    "\n"
   ]
  },
  {
   "cell_type": "markdown",
   "metadata": {},
   "source": [
    "### Indexing arrays"
   ]
  },
  {
   "cell_type": "markdown",
   "metadata": {},
   "source": [
    "The index-able datatypes (strings, lists, and arrays) are made up of units called elements- these are straightforward. Each character in a string, or each comma separated entry in a list or array, constitutes one element. These elements have an index number as follows\n"
   ]
  },
  {
   "cell_type": "code",
   "execution_count": 3,
   "metadata": {
    "collapsed": false
   },
   "outputs": [],
   "source": [
    "list1 = [1, 3, 'cat', 7, 'p']\n",
    "#index:  0  1    2    3   4"
   ]
  },
  {
   "cell_type": "markdown",
   "metadata": {},
   "source": [
    "As you saw in the last tutorial, you can \"pull\" the ith element of a list/array/string by writing the variable name with square brackets after and an index- run the examples below to see how and then attempt the exercise below!"
   ]
  },
  {
   "cell_type": "code",
   "execution_count": null,
   "metadata": {
    "collapsed": false
   },
   "outputs": [],
   "source": [
    "print list1[3]\n",
    "#what did this do?\n",
    "print list1[0:3]\n",
    "#What about this?\n",
    "print list1[-1]\n",
    "#and this?"
   ]
  },
  {
   "cell_type": "code",
   "execution_count": 4,
   "metadata": {
    "collapsed": false
   },
   "outputs": [],
   "source": [
    "#Exercise\n",
    "#1. create an array that contains multiples of 5 from 5 to 50 (including 50). Turn the values into floats.\n",
    "\n",
    "#2. Now make an array that has the same parameters but goes in the opposite direction (50 to 5)\n",
    "\n",
    "#3. print the third to last element of the first array. \n",
    "\n",
    "#4. create an array the same length as the one above containing only 5's (the function len() \n",
    "#   might be helpful)\n",
    "\n",
    "#5. Create a new array that's identical to the second array (hint: set the variable equal to \n",
    "#   np.array(old_array) first- don't set the new list equal to the old one), but where the \n",
    "#   1st through 3rd elements are divided by the 1st through 3rd elements of the first array.\n",
    "\n",
    "#Why do you think newarr= oldarr might not work to do this?"
   ]
  },
  {
   "cell_type": "code",
   "execution_count": null,
   "metadata": {
    "collapsed": false
   },
   "outputs": [],
   "source": [
    "#Arrays also have some accesible methods! Try running arr.mean() below, then arr.<tab> to see all the options you have.\n",
    "\n",
    "arr = np.random.random(10)\n",
    "arr."
   ]
  },
  {
   "cell_type": "markdown",
   "metadata": {},
   "source": [
    "### Some stuff about strings"
   ]
  },
  {
   "cell_type": "markdown",
   "metadata": {},
   "source": [
    "We showed in the last tutorial that strings can be <i>concatenated</i>, that is, you can use the addition operator \"+\" to take two strings and combine them into one. This can be very helpful, particularly when iterating through files to read in to a program. You can multiply a string by a number to create a string that is itself that many times (eg 'cat'\\*3 gives 'catcatcat'). Also, strings can be indexed just like arrays, with slicing like string_name[0:5]. "
   ]
  },
  {
   "cell_type": "markdown",
   "metadata": {},
   "source": [
    "# Slicing..... in the second Dimensioonnnnnnnnnn"
   ]
  },
  {
   "cell_type": "markdown",
   "metadata": {},
   "source": [
    "We saw above that we can use square brackets after the name of a list/string/array to plug in elements or ranges of elements by number. But what if we have an astronomical image? Or just any two dimensional array?\n",
    "\n",
    "As a primer we'll say here that a two dimensional array is indexed first by row, then by column, in a similar method as above:"
   ]
  },
  {
   "cell_type": "code",
   "execution_count": 9,
   "metadata": {
    "collapsed": false
   },
   "outputs": [
    {
     "data": {
      "text/plain": [
       "array([[1, 2, 3, 4],\n",
       "       [5, 8, 6, 1],\n",
       "       [4, 6, 5, 0],\n",
       "       [6, 2, 8, 9]])"
      ]
     },
     "execution_count": 9,
     "metadata": {},
     "output_type": "execute_result"
    }
   ],
   "source": [
    "#note there's no need for this to be square i just like it\n",
    "a = np.array([[1,2,3,4],[5,8,6,1],[4,6,5,0],[6,2,8,9]])\n",
    "a"
   ]
  },
  {
   "cell_type": "code",
   "execution_count": 10,
   "metadata": {
    "collapsed": false
   },
   "outputs": [
    {
     "name": "stdout",
     "output_type": "stream",
     "text": [
      "1\n",
      "1\n"
     ]
    }
   ],
   "source": [
    "#we can now index that two dimensional array in two ways:\n",
    "\n",
    "print(a[0][0]) # [row][col] \n",
    "print(a[0,0]) # [row,col]\n"
   ]
  },
  {
   "cell_type": "code",
   "execution_count": 11,
   "metadata": {
    "collapsed": false
   },
   "outputs": [
    {
     "data": {
      "text/plain": [
       "array([[2, 3],\n",
       "       [8, 6]])"
      ]
     },
     "execution_count": 11,
     "metadata": {},
     "output_type": "execute_result"
    }
   ],
   "source": [
    "# and we can get ranges using the colon:\n",
    "a[0:2,1:3]"
   ]
  },
  {
   "cell_type": "markdown",
   "metadata": {},
   "source": [
    "### Review"
   ]
  },
  {
   "cell_type": "markdown",
   "metadata": {},
   "source": [
    "- For any code we write, we basically always need to import numpy and matplotlib (and possibly astropy) at the top of our code, usually in shorthand. We call functions from these libraries using the dot notation\n",
    "- Arrays and lists can be indexed by element number, starting from zero (or in reverse, starting from -1), and multidimensional arrays get two indices to index by. \n",
    "- arrays, as well as other datatypes, have helpful functions called methods built in to them, which you can see by typing the variable name dot tab\n"
   ]
  }
 ],
 "metadata": {
  "kernelspec": {
   "display_name": "Python 3",
   "language": "python",
   "name": "python3"
  },
  "language_info": {
   "codemirror_mode": {
    "name": "ipython",
    "version": 3
   },
   "file_extension": ".py",
   "mimetype": "text/x-python",
   "name": "python",
   "nbconvert_exporter": "python",
   "pygments_lexer": "ipython3",
   "version": "3.5.2"
  }
 },
 "nbformat": 4,
 "nbformat_minor": 0
}
